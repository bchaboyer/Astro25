{
 "cells": [
  {
   "cell_type": "markdown",
   "metadata": {
    "id": "lvmrZo3KYVtd"
   },
   "source": [
    "# An Introduction to Python and Fitting a Model to Data\n",
    "\n",
    "If you want to save a personal copy of this notebook, you can go to the File menu and then \"Save a copy in Drive\".\n",
    "\n",
    "Here we \"import\" various code modules that we need to do things.  A programming language like Python has many capabilities but they are not all loaded into memory when we start the Python interpreter.  We use the ```import``` statement to load the functions that we'll need."
   ]
  },
  {
   "cell_type": "code",
   "execution_count": null,
   "metadata": {
    "executionInfo": {
     "elapsed": 669,
     "status": "ok",
     "timestamp": 1673545307321,
     "user": {
      "displayName": "Aaron Dotter",
      "userId": "14934541380347259427"
     },
     "user_tz": 300
    },
    "id": "S3pdbdNCYF2W"
   },
   "outputs": [],
   "source": [
    "from numpy import array, sqrt\n",
    "import matplotlib.pyplot as plt\n",
    "from scipy.optimize import curve_fit"
   ]
  },
  {
   "cell_type": "markdown",
   "metadata": {
    "id": "kjxb0NeiYiCX"
   },
   "source": [
    "## Data and a Plot\n",
    "\n",
    "Enter the data.  We're using the ```array``` type array type to store these data because it means we can do math operations on the entire array with the same code expression as if we were doing them on a single number.  The data were copied over from Table 1 of [Hubble (1929)](https://www.pnas.org/content/15/3/168)."
   ]
  },
  {
   "cell_type": "code",
   "execution_count": null,
   "metadata": {
    "executionInfo": {
     "elapsed": 6,
     "status": "ok",
     "timestamp": 1673545365815,
     "user": {
      "displayName": "Aaron Dotter",
      "userId": "14934541380347259427"
     },
     "user_tz": 300
    },
    "id": "keYuNcAJYvx2"
   },
   "outputs": [],
   "source": [
    "distances = array([ 0.032, 0.034, 0.214, 0.263, 0.275, 0.275, 0.45 , 0.5  ,\n",
    "       0.5  , 0.63 , 0.8  , 0.9  , 0.9  , 0.9  , 0.9  , 1.   , 1.1  ,\n",
    "       1.1  , 1.4  , 1.7  , 2.   , 2.   , 2.   , 2.   ])\n",
    "\n",
    "velocities = array([ 170.,  290., -130.,  -70., -185., -220.,  200.,  290.,\n",
    "        270.,  200.,  300.,  -30.,  650.,  150.,  500.,  920.,  450.,\n",
    "        500.,  500.,  960.,  500.,  850.,  800., 1090.])"
   ]
  },
  {
   "cell_type": "code",
   "execution_count": null,
   "metadata": {
    "id": "KwJ546dL8ywV"
   },
   "outputs": [],
   "source": [
    "velocities/distances"
   ]
  },
  {
   "cell_type": "markdown",
   "metadata": {
    "id": "XblUw4V4aHDn"
   },
   "source": [
    "Make a basic scatter plot to see that the data looks as we expect it to.  Here is Hubble's original graph for reference.  As we look at this figure, we should note that Hubble plotted the individual data points as filled circles and the averages in a few distance bins as open circles.  Here we deal only with the individual data points.\n",
    "\n",
    "![F2.medium.gif](data:image/gif;base64,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)"
   ]
  },
  {
   "cell_type": "markdown",
   "metadata": {
    "id": "Znx1T4nJNLmJ"
   },
   "source": [
    "The code below creates a basic figure, and makes a scatter plot for the data.  We set the x- and y-limits to be similar to Hubbles plot.  We also label the axes, turn on gridlines, and include a legend."
   ]
  },
  {
   "cell_type": "code",
   "execution_count": null,
   "metadata": {
    "colab": {
     "base_uri": "https://localhost:8080/",
     "height": 446
    },
    "executionInfo": {
     "elapsed": 441,
     "status": "ok",
     "timestamp": 1673545465376,
     "user": {
      "displayName": "Aaron Dotter",
      "userId": "14934541380347259427"
     },
     "user_tz": 300
    },
    "id": "oT_avrvfZhd4",
    "outputId": "fc139cae-10f7-4bf1-caee-5b5bd67cfd39"
   },
   "outputs": [],
   "source": [
    "plt.figure(1,figsize=(10,7))\n",
    "plt.scatter(distances, velocities, marker='o', color='Tomato', s=100, label='Hubble (1929)')\n",
    "plt.grid()\n",
    "plt.ylim(-500,1500)\n",
    "plt.xlim(-0.5,2.5)\n",
    "plt.xlabel('Distance (Mpc)')\n",
    "plt.ylabel('Velocity (km/s)')\n",
    "plt.legend(loc='upper left');"
   ]
  },
  {
   "cell_type": "markdown",
   "metadata": {
    "id": "Zle5AMYebgLH"
   },
   "source": [
    "## Defining and Using a Function\n",
    "\n",
    "Now that we have a basic plot, let's consider how we can go about fitting a model to these data.  First, we take a basic look at how we define functions in Python.  Functions are defined using the keyword ```def```.  The basic equation for a line is y = f(x) = mx + b; here m is the slope of the line and b is the intercept (where the line crosses the x-axis).  So a general function for a linear model would look like this:\n",
    "\n"
   ]
  },
  {
   "cell_type": "code",
   "execution_count": null,
   "metadata": {
    "executionInfo": {
     "elapsed": 156,
     "status": "ok",
     "timestamp": 1673545546635,
     "user": {
      "displayName": "Aaron Dotter",
      "userId": "14934541380347259427"
     },
     "user_tz": 300
    },
    "id": "0i6knZmBcVC8"
   },
   "outputs": [],
   "source": [
    "def f(x,m,b): return m*x + b"
   ]
  },
  {
   "cell_type": "markdown",
   "metadata": {
    "id": "69aKQi1kcaUt"
   },
   "source": [
    "Let's pull this apart: the ```def``` keyword tells Python we're defining a function.  We call the function ```f``` and it has arguments ```x, m, b```.  We do it in this order for a reason, which we'll explain later.  The ```:``` tells Python we're beginning to enter the code for the function and the ```return``` statement tells it what value it should return when we call the function.  We could do it another way, which is more useful when there is more code involved in defining the function:"
   ]
  },
  {
   "cell_type": "code",
   "execution_count": null,
   "metadata": {
    "executionInfo": {
     "elapsed": 6,
     "status": "ok",
     "timestamp": 1673545555281,
     "user": {
      "displayName": "Aaron Dotter",
      "userId": "14934541380347259427"
     },
     "user_tz": 300
    },
    "id": "mtTEqzKkdFux"
   },
   "outputs": [],
   "source": [
    "def f(x,m,b):\n",
    "  y = m*x + b\n",
    "  return y"
   ]
  },
  {
   "cell_type": "markdown",
   "metadata": {
    "id": "CvhhiZnVdKyR"
   },
   "source": [
    "These two definitions give the same results.  The latter is more general and uses a local variable, ```y```, to store the result of our calculation.  This ```y``` only exists inside the function and Python forgets all about it once it returns from the function call.  Let's call the function with some numbers and see what happens."
   ]
  },
  {
   "cell_type": "code",
   "execution_count": null,
   "metadata": {
    "colab": {
     "base_uri": "https://localhost:8080/"
    },
    "executionInfo": {
     "elapsed": 143,
     "status": "ok",
     "timestamp": 1673545588283,
     "user": {
      "displayName": "Aaron Dotter",
      "userId": "14934541380347259427"
     },
     "user_tz": 300
    },
    "id": "Z_bc2KIYdmZN",
    "outputId": "abafe5e4-9d19-4ddd-ebc2-71f14ce280b7"
   },
   "outputs": [],
   "source": [
    "x = 1.0 #Mpc\n",
    "m = 70 #km/s\n",
    "b = 0 # no intercept\n",
    "f(x,m,b)"
   ]
  },
  {
   "cell_type": "markdown",
   "metadata": {
    "id": "BggVUTLQdznz"
   },
   "source": [
    "In the above cell we've introduced three new variables, corresponding to the arguments of the function, and then called the function.  The output, ```70.0``` is the value that is returned by the function.  We can also assign a new variable to the output of the function.  Note also that we can re-use variables as we please.  The variable will hold the last value we assigned to it."
   ]
  },
  {
   "cell_type": "code",
   "execution_count": null,
   "metadata": {
    "id": "IzJY1289ePbh"
   },
   "outputs": [],
   "source": [
    "x = 1.0 #Mpc\n",
    "m = 70 #km/s\n",
    "b = 0 # no intercept\n",
    "y=f(x,m,b)\n",
    "y"
   ]
  },
  {
   "cell_type": "markdown",
   "metadata": {
    "id": "BxocuvLqeXN-"
   },
   "source": [
    "We can also feed an array of numbers to our function.  Let's try that with the ```distances``` array that we created above."
   ]
  },
  {
   "cell_type": "code",
   "execution_count": null,
   "metadata": {
    "colab": {
     "base_uri": "https://localhost:8080/"
    },
    "executionInfo": {
     "elapsed": 137,
     "status": "ok",
     "timestamp": 1673545651270,
     "user": {
      "displayName": "Aaron Dotter",
      "userId": "14934541380347259427"
     },
     "user_tz": 300
    },
    "id": "jHzr2SOserKx",
    "outputId": "7bc9cf56-7511-4a0c-ca5e-4c7ff63ce4c0"
   },
   "outputs": [],
   "source": [
    "y=f(distances,m,b)\n",
    "y"
   ]
  },
  {
   "cell_type": "markdown",
   "metadata": {
    "id": "T7I7laGiewLc"
   },
   "source": [
    "Here we've applied the function, a linear \"model\" in this case, to the distances array and the return value, stored in ```y```, is now an array.\n",
    "\n",
    "Let's make another plot where we again show the data and this time also plot a linear relationship between distance and velocity.  Just by visual inspection, the slope of Hubble's data look like about 500 km/s.  So we'll set the slope equal to 500.  And we'll set the intercept to zero because we would expect the local velocity to be zero, not some other value."
   ]
  },
  {
   "cell_type": "code",
   "execution_count": null,
   "metadata": {
    "colab": {
     "base_uri": "https://localhost:8080/",
     "height": 446
    },
    "executionInfo": {
     "elapsed": 364,
     "status": "ok",
     "timestamp": 1673545710814,
     "user": {
      "displayName": "Aaron Dotter",
      "userId": "14934541380347259427"
     },
     "user_tz": 300
    },
    "id": "ZymXsXXcfcJZ",
    "outputId": "2fb4d347-cab0-4a6a-a2c6-f57dc2764db2"
   },
   "outputs": [],
   "source": [
    "m = 500\n",
    "b = 0\n",
    "v = f(distances, m, b)\n",
    "\n",
    "plt.figure(2,figsize=(10,7))\n",
    "plt.scatter(distances, velocities, marker='o', color='Tomato', s=100, label='Hubble (1929)')\n",
    "plt.plot(distances, v, color='DodgerBlue', label='linear')\n",
    "plt.grid()\n",
    "plt.ylim(-500,1500)\n",
    "plt.xlim(-0.5,2.5)\n",
    "plt.xlabel('Distance (Mpc)')\n",
    "plt.ylabel('Velocity (km/s)')\n",
    "plt.legend(loc='upper left');"
   ]
  },
  {
   "cell_type": "markdown",
   "metadata": {
    "id": "91Hh0r6Af1bU"
   },
   "source": [
    "## Fitting a Model to Data\n",
    "\n",
    "This looks quite reasonable but we can use statistical techniques to find the slope and intercept that best fits these data, as well as a measure of the uncertainties in the those fitted parameters.\n",
    "\n",
    "You can get more information about a function in iPython by typing the name of the function either followed or preceded by a ?. "
   ]
  },
  {
   "cell_type": "code",
   "execution_count": null,
   "metadata": {
    "executionInfo": {
     "elapsed": 145,
     "status": "ok",
     "timestamp": 1673545759672,
     "user": {
      "displayName": "Aaron Dotter",
      "userId": "14934541380347259427"
     },
     "user_tz": 300
    },
    "id": "XJbG0M2IgRFz"
   },
   "outputs": [],
   "source": [
    "?curve_fit"
   ]
  },
  {
   "cell_type": "markdown",
   "metadata": {
    "id": "0MfNiu8BgdmP"
   },
   "source": [
    "```curve_fit``` is a very sophisticated function that allows us to determine the parameters of our model (linear in this case).  The details of exactly how it works are beyond the scope of this activity.  But let's look more closely at the arguments this function takes: \n",
    "\n",
    "\n",
    "*   ```f``` is the name of the function we want to fit to the data\n",
    "*   ```xdata``` is the independent variable (x-axis)\n",
    "*   ```ydata``` is the dependent variable (y-axis)\n",
    "*   ```p0``` (optional) is an initial guess for the parameters of our function (m,b)\n",
    "*   ```sigma``` (optional) is a way to set the uncertainty in the data\n",
    "\n",
    "Other arguments we will not use.  The only ones we need to give it are f, xdata, and ydata.\n",
    "\n",
    "```curve_fit``` returns (gives back to us) the optimized values ```popt``` of the parameters (m,b) and the covariance of those parameters ```pcov```.  We'll discuss what that means.  Let's try it out!"
   ]
  },
  {
   "cell_type": "code",
   "execution_count": null,
   "metadata": {
    "colab": {
     "base_uri": "https://localhost:8080/"
    },
    "executionInfo": {
     "elapsed": 156,
     "status": "ok",
     "timestamp": 1673545860815,
     "user": {
      "displayName": "Aaron Dotter",
      "userId": "14934541380347259427"
     },
     "user_tz": 300
    },
    "id": "VDClNgUEkPv6",
    "outputId": "79dd260e-9b60-44dc-c111-95280ea2b43f"
   },
   "outputs": [],
   "source": [
    "popt, pcov = curve_fit(f, distances, velocities)\n",
    "print('best-fit value of slope is {0:6.2f} km/s and the intercept is {1:6.2f} km/s.'.format(popt[0],popt[1]))"
   ]
  },
  {
   "cell_type": "code",
   "execution_count": null,
   "metadata": {
    "colab": {
     "base_uri": "https://localhost:8080/"
    },
    "executionInfo": {
     "elapsed": 144,
     "status": "ok",
     "timestamp": 1673545895353,
     "user": {
      "displayName": "Aaron Dotter",
      "userId": "14934541380347259427"
     },
     "user_tz": 300
    },
    "id": "6gO-yQoqO36M",
    "outputId": "a9a13cc1-3355-4ce6-9124-91486b047de5"
   },
   "outputs": [],
   "source": [
    "popt"
   ]
  },
  {
   "cell_type": "code",
   "execution_count": null,
   "metadata": {
    "colab": {
     "base_uri": "https://localhost:8080/"
    },
    "executionInfo": {
     "elapsed": 172,
     "status": "ok",
     "timestamp": 1673545897516,
     "user": {
      "displayName": "Aaron Dotter",
      "userId": "14934541380347259427"
     },
     "user_tz": 300
    },
    "id": "EN_DzHAzPU3q",
    "outputId": "183ba0e9-5368-4a37-c69b-c0ba38a102b8"
   },
   "outputs": [],
   "source": [
    "pcov"
   ]
  },
  {
   "cell_type": "markdown",
   "metadata": {
    "id": "5_JHcREMkbuN"
   },
   "source": [
    "```popt``` is an array of length 2.  The two components are the best-fit values of the two parameters of our function.\n",
    "\n",
    "```popt``` tells us that the best-fit value of the slope, Hubble's constant, is 454. km/s.  It also finds the best-fit intercept to be -41 km/s. \n",
    "\n",
    "The 1-$\\sigma$ uncertainty on the slope is ```sqrt(pcov[0,0])``` and on the intercept is ```sqrt(pcov[1,1])```."
   ]
  },
  {
   "cell_type": "code",
   "execution_count": null,
   "metadata": {
    "colab": {
     "base_uri": "https://localhost:8080/"
    },
    "executionInfo": {
     "elapsed": 136,
     "status": "ok",
     "timestamp": 1673545968370,
     "user": {
      "displayName": "Aaron Dotter",
      "userId": "14934541380347259427"
     },
     "user_tz": 300
    },
    "id": "WicI7vx-IPm-",
    "outputId": "a54eeedf-6422-4c6d-dcd7-129af299e775"
   },
   "outputs": [],
   "source": [
    "print('uncertainty on slope = {0:6.2f} km/s'.format(sqrt(pcov[0,0])))\n",
    "print('uncertainty on intercept = {0:6.2f} km/s'.format(sqrt(pcov[1,1])))"
   ]
  },
  {
   "cell_type": "markdown",
   "metadata": {
    "id": "O4DzQaL1IIiS"
   },
   "source": [
    "Let's make a plot of our best-fit linear model to the data."
   ]
  },
  {
   "cell_type": "code",
   "execution_count": null,
   "metadata": {
    "colab": {
     "base_uri": "https://localhost:8080/",
     "height": 446
    },
    "executionInfo": {
     "elapsed": 683,
     "status": "ok",
     "timestamp": 1673546037400,
     "user": {
      "displayName": "Aaron Dotter",
      "userId": "14934541380347259427"
     },
     "user_tz": 300
    },
    "id": "5gluJiDMFPbL",
    "outputId": "e81de6b6-00c1-4492-c383-d01c18a36cb3"
   },
   "outputs": [],
   "source": [
    "m = popt[0]\n",
    "b = popt[1]\n",
    "fit_velocities = f(distances, m, b)\n",
    "plt.figure(2,figsize=(10,7))\n",
    "plt.scatter(distances, velocities, marker='o', color='Tomato', s=100, label='Hubble (1929)')\n",
    "plt.plot(distances, fit_velocities, color='DodgerBlue', label='linear best-fit')\n",
    "plt.grid()\n",
    "plt.ylim(-500,1500)\n",
    "plt.xlim(-0.5,2.5)\n",
    "plt.xlabel('Distance (Mpc)')\n",
    "plt.ylabel('Velocity (km/s)')\n",
    "plt.legend(loc='upper left');"
   ]
  },
  {
   "cell_type": "markdown",
   "metadata": {
    "id": "D3Rtoaa-GxYi"
   },
   "source": [
    "## Refining the Model\n",
    "\n",
    "Now, the simplest assumption is that the expansion velocity at D=0 (local) should be zero.  This is equivalent to a linear function with an intercept (b) equatl to zero.  Let's define a new function, ```g```, that reflects this.  Now the only parameter that the function takes is the slope."
   ]
  },
  {
   "cell_type": "code",
   "execution_count": null,
   "metadata": {
    "executionInfo": {
     "elapsed": 158,
     "status": "ok",
     "timestamp": 1673546127125,
     "user": {
      "displayName": "Aaron Dotter",
      "userId": "14934541380347259427"
     },
     "user_tz": 300
    },
    "id": "AfSGQ_k3kteT"
   },
   "outputs": [],
   "source": [
    "def g(x,m):\n",
    "  y = m*x\n",
    "  return y"
   ]
  },
  {
   "cell_type": "markdown",
   "metadata": {
    "id": "_zIA50E7Hhjs"
   },
   "source": [
    "Let's find the best-fit value of the slope for this function and then plot it, too."
   ]
  },
  {
   "cell_type": "code",
   "execution_count": null,
   "metadata": {
    "colab": {
     "base_uri": "https://localhost:8080/"
    },
    "executionInfo": {
     "elapsed": 132,
     "status": "ok",
     "timestamp": 1673546138269,
     "user": {
      "displayName": "Aaron Dotter",
      "userId": "14934541380347259427"
     },
     "user_tz": 300
    },
    "id": "nWwGDaHsJOqu",
    "outputId": "13403cce-51fb-4445-b1fe-b449859805ba"
   },
   "outputs": [],
   "source": [
    "popt, pcov = curve_fit(g, distances, velocities)\n",
    "print('best-fit value of slope is {0:6.2f} km/s.'.format(popt[0]))\n",
    "print('uncertainty on slope = {0:6.2f} km/s'.format(sqrt(pcov[0,0])))"
   ]
  },
  {
   "cell_type": "code",
   "execution_count": null,
   "metadata": {
    "colab": {
     "base_uri": "https://localhost:8080/",
     "height": 446
    },
    "executionInfo": {
     "elapsed": 616,
     "status": "ok",
     "timestamp": 1673546168967,
     "user": {
      "displayName": "Aaron Dotter",
      "userId": "14934541380347259427"
     },
     "user_tz": 300
    },
    "id": "-4hN6TQxJtGO",
    "outputId": "6ca20428-f81b-43aa-ae21-7fa7447cd8bc"
   },
   "outputs": [],
   "source": [
    "m = popt[0]\n",
    "g_fit_velocities = g(distances, m)\n",
    "plt.figure(3,figsize=(10,7))\n",
    "plt.scatter(distances, velocities, marker='o', color='Tomato', s=100, label='Hubble (1929)')\n",
    "plt.plot(distances, g_fit_velocities, color='DodgerBlue', label='linear g best-fit')\n",
    "plt.grid()\n",
    "plt.ylim(-500,1500)\n",
    "plt.xlim(-0.5,2.5)\n",
    "plt.xlabel('Distance (Mpc)')\n",
    "plt.ylabel('Velocity (km/s)')\n",
    "plt.legend(loc='upper left');"
   ]
  },
  {
   "cell_type": "markdown",
   "metadata": {
    "id": "0AEDQ9fGn97o"
   },
   "source": [
    "# Next Steps\n",
    "\n",
    "Now, let's try a more recent data set.  These data are from [Riess, Press, & Kirshner (1996)](https://ui.adsabs.harvard.edu/abs/1996ApJ...473...88R/abstract). But notice that these data are not in the same units we used above.  The velocites are log10([km/s]) and the distances are expressed as the distance modulus ($\\mu = m-M$).  It's up to you how you want to work with these but the challenge is again to estimate the Hubble constant and its uncertainty from the data points. This [web page]( https://astronomy.swin.edu.au/cosmos/D/Distance+Modulus ) gives a good explanation ofthe relationship between the distance modulus and distance. "
   ]
  },
  {
   "cell_type": "code",
   "execution_count": null,
   "metadata": {
    "id": "n8MwlzYhocy3"
   },
   "outputs": [],
   "source": [
    "logV = array([ 3.734, 3.779, 3.521, 4.481, 4.35 , 3.896, 4.14 , 3.991,\n",
    "       3.613, 4.178, 3.299, 3.389, 3.709, 3.859, 3.685, 4.03 , 3.938,\n",
    "       4.17 , 3.938, 4.17 , 3.398, 3.547])\n",
    "mu = array([ 34.59, 34.75, 33.53, 38.27, 37.79, 34.5 , 36.75, 35.7 ,\n",
    "       34.15, 36.87, 32.22, 32.96, 34.52, 35.32, 34.24, 36.16, 35.86,\n",
    "       36.93, 35.86, 36.93, 32.76, 33.76])"
   ]
  },
  {
   "cell_type": "code",
   "execution_count": null,
   "metadata": {},
   "outputs": [],
   "source": []
  }
 ],
 "metadata": {
  "colab": {
   "provenance": []
  },
  "kernelspec": {
   "display_name": "Python 3 (ipykernel)",
   "language": "python",
   "name": "python3"
  },
  "language_info": {
   "codemirror_mode": {
    "name": "ipython",
    "version": 3
   },
   "file_extension": ".py",
   "mimetype": "text/x-python",
   "name": "python",
   "nbconvert_exporter": "python",
   "pygments_lexer": "ipython3",
   "version": "3.9.7"
  }
 },
 "nbformat": 4,
 "nbformat_minor": 1
}
