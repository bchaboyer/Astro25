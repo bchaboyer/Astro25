{
 "cells": [
  {
   "cell_type": "markdown",
   "metadata": {},
   "source": [
    "# Intro to Jupyter Notebooks!\n",
    "*Due January 13 at 5pm. For this assignment, please a) click Kernel > Restart & Run All to erase the output and re-run everything, b) save a pdf of this jupyter notebook to upload to Canvas. You can create a pdf by going to File > Download as > PDF via LaTeX. \n",
    "\n",
    "Jupyter notebooks are a nice way of programming because you can combine comments and the output images with the code itself. The origin of the name is Jupiter + python, with the inspiration coming from Galileo's notebooks showing the movement of the Galilean satellites of Jupiter.\n",
    "\n",
    "Each of these gray boxes is a *cell*. Cells can be text (like this one) or code (like the next one). This cell is a **Markdown** cell, which you'll see denoted along the top toolbar. You can set the type of each cell. Double click on this cell, and you can see how I formatted this text. Hold down <kbd>shift</kbd> +<kbd>enter</kbd> to run this cell and return it to the formatted text.\n",
    "\n",
    "Code cells have to be run in order to run the code contained within them. Click on the next cell and hold down <kbd>shift</kbd> +<kbd>enter</kbd> to run the cell."
   ]
  },
  {
   "cell_type": "code",
   "execution_count": null,
   "metadata": {},
   "outputs": [],
   "source": [
    "from IPython.display import Image\n",
    "Image(filename='galileo_manuscript.png') \n",
    "\n",
    "# image is from https://www.nasa.gov/feature/410-years-ago-galileo-discovers-jupiter-s-moons"
   ]
  },
  {
   "cell_type": "markdown",
   "metadata": {},
   "source": [
    "The cell above displays an image, and also illustrates some of the key points for how python and jupyter work. Let's look at the first line:  \n",
    "\n",
    "<code>from IPython.display import Image</code>\n",
    "\n",
    "This imports a **function** or **class**, in this case `Image`, from a **library**, in this case `IPython`. A library contains a few or a multitude of individual files, referred to as **modules**; here the `Image` function is found within the `display` module. Once we've imported the relevent modules, we have access to the functions contained within them. In this example, we're only importing one function from the library: the `Image` function.\n",
    "\n",
    "That brings us to functions and classes. Both of these are ways of storing pre-written code for use later. They are used (or **called**) in the same way, by writing the name of the function or class and placing parentheses around the input **arguments** (there could be none, one, or many!). Suppling arguments is often called **passing** arguments to the function or class. Here is where we use the class `Image`:\n",
    "\n",
    "<code>Image(filename='galileo_manuscript.png')</code>\n",
    "    \n",
    "In our example, `Image` takes the argument `filename`. This line of code displays the image 'galileo_manuscript.png', which is in the same folder as this jupyter notebook.\n",
    "\n",
    "The last line in the cell above is a **comment** and is denoted by a hashtag (`#`). A comment is text within a code cell that is *not* run as code. You can put whatever you like inside a comment. Comments are super important for writing code that other people can use, and that you yourself will understand when you come back to it in a week, or a month, or a year. "
   ]
  },
  {
   "cell_type": "markdown",
   "metadata": {},
   "source": [
    "# 1. How many stars are there in the Galaxy?\n",
    "\n",
    "We are going to estimate the number of stars in the Milky Way Galaxy (our home Galaxy!). This is going to be an order-of-magnitude (or back-of-the-envelope) calculation. First, we'll do this on the board together, then you'll repeat the calculations in code. Here are two facts:\n",
    "* The nearest star to us is Proxima Centauri, and it is 1.3pc away\n",
    "* Our Galaxy is approximately a cylinder, with a radius of 10kpc and a height of 1kpc.\n",
    "\n",
    "The next few code cells contain examples of how to perform the math we'll need to do this.\n"
   ]
  },
  {
   "cell_type": "code",
   "execution_count": null,
   "metadata": {},
   "outputs": [],
   "source": [
    "# multiplication\n",
    "5*3"
   ]
  },
  {
   "cell_type": "code",
   "execution_count": null,
   "metadata": {},
   "outputs": [],
   "source": [
    "# exponents\n",
    "5**3"
   ]
  },
  {
   "cell_type": "code",
   "execution_count": null,
   "metadata": {},
   "outputs": [],
   "source": [
    "# division\n",
    "5/3"
   ]
  },
  {
   "cell_type": "code",
   "execution_count": null,
   "metadata": {},
   "outputs": [],
   "source": [
    "# this all works using variables, too\n",
    "a = 3\n",
    "b = 5\n",
    "b/a"
   ]
  },
  {
   "cell_type": "markdown",
   "metadata": {},
   "source": [
    "The cell below (a code cell) repeats the calculation that we just did together. We defined three **variables**: `volume_sun`, `volume_galaxy`, and `number_stars`. I follow the \"snake\" convention for naming variables, where all letters are lower case and words are connected together by an underscore. Note that I tried to name these variables something meaningful, and I left a comment for each line saying what it does. \n",
    "\n",
    "After completing the calculation, we want to see what answer we actually got. The method I've used above is to simply type the variable name in the cell and it will get printed out. \n"
   ]
  },
  {
   "cell_type": "code",
   "execution_count": null,
   "metadata": {},
   "outputs": [],
   "source": [
    "volume_sun = 3.14 * (1.3/2)**3 # define the volume of space contained by the Sun, in units of pc\n",
    "volume_galaxy = 2*3.14 * (10*10**3)**2 * 10**3 # define the volume of the Galaxy, in units of pc\n",
    "number_stars = volume_galaxy/volume_sun # this calculates the number of stars\n",
    "number_stars # this will print out the number of stars"
   ]
  },
  {
   "cell_type": "markdown",
   "metadata": {},
   "source": [
    "## Printing out variables\n",
    "\n",
    "### 1.a Printing experiment.\n",
    "\n",
    "Try print out `volume_sun` and `volume_galaxy` following the same method I used, by just typing the variable names. Put all your code in the same cell (I've already included `number_of_stars` in the cell below for you). Did it work?"
   ]
  },
  {
   "cell_type": "code",
   "execution_count": null,
   "metadata": {},
   "outputs": [],
   "source": [
    "number_stars # this will print out the number of stars"
   ]
  },
  {
   "cell_type": "markdown",
   "metadata": {},
   "source": [
    "## Using the print function"
   ]
  },
  {
   "cell_type": "markdown",
   "metadata": {},
   "source": [
    "As you saw above, typing the variable name only works for one variable (specifically, the last one written). Plus, maybe you want to add some other information. This leads us to the extremely useful `print` function. `print` is a function and as an argument in takes as an argument the variable you want to print out. You can also print out multiple items by supplying multiple arguments, separated by commas. For example:"
   ]
  },
  {
   "cell_type": "code",
   "execution_count": null,
   "metadata": {},
   "outputs": [],
   "source": [
    "name=\"Professor Chaboyer\"\n",
    "print(\"Hello, Universe! This is\", name, \".\")"
   ]
  },
  {
   "cell_type": "markdown",
   "metadata": {},
   "source": [
    "### 1.b. Write print statements to print out the volume of the galaxy and our estimate of the number of stars. \n",
    "\n",
    "Make sure to include enough information so that someone else will know what the output means, including units. Note that python saves the variables you calculated in previous cells until you either re-write over those variables, or restart the kernel (under the Kernel menu in the top toolbar)."
   ]
  },
  {
   "cell_type": "code",
   "execution_count": null,
   "metadata": {},
   "outputs": [],
   "source": [
    "# your code here"
   ]
  },
  {
   "cell_type": "markdown",
   "metadata": {},
   "source": [
    "## Once again, with units\n",
    "\n",
    "One thing that was pretty awkward about the calculation we just did is that we had to convert all of the units outselves: by default, programming doesn't know anything about units. We also had to type out what pi was; we didn't need much precision in this case because we were doing an order-of-magnitude calcualtion, but imagine if we wanted 5 decimals of precision in our calculation!\n",
    "\n",
    "We are going to use the `math` library, which contains such nice utilities as pi, and a modules from the ``astropy`` library: ``units``. Below are the import statements such that you have access to these tools."
   ]
  },
  {
   "cell_type": "code",
   "execution_count": null,
   "metadata": {},
   "outputs": [],
   "source": [
    "import astropy.units as u # here I'm giving astropy.units a nickname which we can use later\n",
    "import astropy.constants as c\n",
    "import math\n",
    "\n",
    "# here's how you access pi:\n",
    "print(\"I'm printing out pi!\", math.pi)\n",
    "\n",
    "# Astronomers use a lot of imperial units. \n",
    "#You can see which of these are available \n",
    "# in ``astropy`` with this handy function:\n",
    "u.m.find_equivalent_units() "
   ]
  },
  {
   "cell_type": "markdown",
   "metadata": {},
   "source": [
    "### 2.a. Use the astropy documentation at <url>https://docs.astropy.org/en/stable/units/</url> to re-write your calculation using units."
   ]
  },
  {
   "cell_type": "code",
   "execution_count": null,
   "metadata": {},
   "outputs": [],
   "source": [
    "# your code here"
   ]
  },
  {
   "cell_type": "markdown",
   "metadata": {},
   "source": [
    "# Astropy\n",
    "\n",
    "Get some help from your good friend google to answer the following questions. Edit the markdown cells by double clicking. After editing make sure to run the cells so they look nice."
   ]
  },
  {
   "cell_type": "markdown",
   "metadata": {},
   "source": [
    "### 2.b.i. What is the astropy project?\n",
    "\n",
    "Your answer.\n",
    "\n",
    "### 2.b.ii. Find an astropy tutorial that deals with tables and include the link here. \n",
    "\n",
    "Your answer.\n",
    "\n",
    "### 2.b.iii. How would you cite astropy in a paper?\n",
    "\n",
    "Your answer.\n"
   ]
  },
  {
   "cell_type": "markdown",
   "metadata": {},
   "source": [
    "# Reflection\n",
    "\n",
    "### 3. In a short paragraph, explain the order-of-magnitude estimate that you did, including how you used astropy to help you.\n",
    "\n",
    "Your answer.\n"
   ]
  }
 ],
 "metadata": {
  "kernelspec": {
   "display_name": "Python 3 (ipykernel)",
   "language": "python",
   "name": "python3"
  },
  "language_info": {
   "codemirror_mode": {
    "name": "ipython",
    "version": 3
   },
   "file_extension": ".py",
   "mimetype": "text/x-python",
   "name": "python",
   "nbconvert_exporter": "python",
   "pygments_lexer": "ipython3",
   "version": "3.9.7"
  }
 },
 "nbformat": 4,
 "nbformat_minor": 4
}
