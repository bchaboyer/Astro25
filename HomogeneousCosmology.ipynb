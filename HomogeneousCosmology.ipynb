{
 "cells": [
  {
   "cell_type": "markdown",
   "metadata": {
    "id": "8uQ562JP6Ttf"
   },
   "source": [
    "# Friedmann Equations\n",
    "We've already seen the equations in class.  Let's develop some intuition about how the parameters influence the time evolution of the scale factor $a$.  We begin with the differential equation\n",
    "\n",
    "$\\frac{\\ddot{a}}{a} = - \\frac{4 \\pi G}{3} \\left( \\rho + \\frac{3P}{c^2} \\right) + \\frac{\\Lambda}{3}$\n"
   ]
  },
  {
   "cell_type": "markdown",
   "metadata": {
    "id": "Yw8AUBNfzXo4"
   },
   "source": [
    "Where $G$ is Newton's Gravitational constant, $P$ is the pressure, $\\rho$ is the density, $c$ is the speed of light and $\\Lambda$ is the Cosmological Constant."
   ]
  },
  {
   "cell_type": "code",
   "execution_count": null,
   "metadata": {
    "id": "sX-pcUJO6MT4"
   },
   "outputs": [],
   "source": [
    "#this cell loads lots of useful functions for us\n",
    "from pylab import *\n",
    "\n",
    "#fundamental units\n",
    "s=1.0 #time unit is seconds\n",
    "cm=1.0 #distance unit is cm\n",
    "erg=1.0 #energy unit is erg\n",
    "g=1.0 #mass unit gram\n",
    "\n",
    "#constants\n",
    "sec_yr = 365.25*24*3600 # seconds per year\n",
    "Mpc=3.086e24*cm #cm\n",
    "G=6.6743e-8*cm*cm*cm/g/s/s #cgs units\n",
    "km=1e5*cm\n",
    "H0_h=100.0*km/s/Mpc #1/s"
   ]
  },
  {
   "cell_type": "markdown",
   "metadata": {
    "id": "hTI7fvpS6Sy6"
   },
   "source": [
    "Below is a function allows us to simulate the time evolution of the Friedmann equations for different values of the parameters that govern the model. The way it works is simple, and the numerical integration it performs is the simplest method possible -- which means that we won't be able to follow the integration when the scale factor _a_ approaches zero.\n",
    "\n",
    "It follows the evolution in two parts and then joins them together at the end.  Always starting from \"today\" and evolving back in time until _a < 0.01_ and then forward in time for a fixed interval of time, or unitl _a < 0.01_ if that is possible given the parameters."
   ]
  },
  {
   "cell_type": "code",
   "execution_count": null,
   "metadata": {
    "id": "0whGRtmJz5iF"
   },
   "outputs": [],
   "source": [
    "def cosmology(omega_m=1.0, omega_r=1.0, omega_L=1.0, w = -1.0, h=0.7, tmax = 10.):\n",
    "    ''' integrate forwards and backwards the Friedmann equation\n",
    "        to obtain the evolution of the scale factor, its time derivative,\n",
    "        redshift z, and the deceleration parameter q'''\n",
    "\n",
    "    #some computed constants, values depend on the inputs\n",
    "    H0 = H0_h * h\n",
    "    rho_crit = (3.*H0*H0)/(8.*pi*G)\n",
    "    matter = omega_m * rho_crit\n",
    "    radiation = omega_r * rho_crit\n",
    "    darkEnergy = omega_L * rho_crit\n",
    "    darkEnergyFactor = 3.0 * w + 1.0\n",
    "    darkEnergyPower = 3.0 * w + 2.0\n",
    "\n",
    "    dt = 1.0e6*sec_yr # 1 Myr timestep\n",
    "\n",
    "    # Run simulation backward from present day until scale factor is < 0.01\n",
    "    lResultsBackward = []\n",
    "\n",
    "    t = 0.0\n",
    "    a = 1.0\n",
    "    adot = H0\n",
    "\n",
    "    q0 = 0.5*omega_m - omega_L\n",
    "\n",
    "    while a > 0.01:\n",
    "        matterTerm = matter * pow(a,-2)\n",
    "        radiationTerm = 2.0 * radiation * pow(a,-3)\n",
    "        darkEnergyTerm = darkEnergyFactor * darkEnergy * pow(a,-darkEnergyPower)\n",
    "\n",
    "        a2dot = -(4.0/3.0) * pi * G * (matterTerm + radiationTerm + darkEnergyTerm)\n",
    "        adot = adot - dt * a2dot\n",
    "        a = a - dt * adot\n",
    "        t = t - dt\n",
    "        z = 1./a - 1.\n",
    "        q = -a * a2dot / (adot*adot)\n",
    "\n",
    "        lResultsBackward.append((t/sec_yr/1e9, a, z, q))\n",
    "\n",
    "    # Run simulation forward from present day for another 50 billion years\n",
    "    # or until the scale factor falls below 0.01\n",
    "    lResultsForward = []\n",
    "\n",
    "    t = 0.0\n",
    "    a = 1.0\n",
    "    adot = H0_h * h\n",
    "\n",
    "    while t < tmax*1e9*sec_yr and a > 0.01:\n",
    "        matterTerm = matter * pow(a,-2)\n",
    "        radiationTerm = 2.0 * radiation * pow(a,-3)\n",
    "        darkEnergyTerm = darkEnergyFactor * darkEnergy * pow(a,-darkEnergyPower)\n",
    "\n",
    "        a2dot = -(4.0/3.0) * pi * G * (matterTerm + radiationTerm + darkEnergyTerm)\n",
    "        adot = adot + dt * a2dot\n",
    "        a = a + dt * adot\n",
    "        t = t + dt\n",
    "        z = 1./a - 1.\n",
    "        q = -a * a2dot / (adot*adot)\n",
    "\n",
    "        lResultsForward.append((t/sec_yr/1.0e9, a, z, q))\n",
    "\n",
    "    # Write results to an array with names columns for ease of use\n",
    "\n",
    "    lResultsBackward.reverse()\n",
    "    lResults = lResultsBackward + [(0.0, 1.0, 0., q0)] + lResultsForward\n",
    "    return array(lResults, dtype=[('t', float64), ('a', float64), ('z', float64), ('q', float64) ])\n"
   ]
  },
  {
   "cell_type": "markdown",
   "metadata": {
    "id": "QqFeIcdZ01np"
   },
   "source": [
    "We can use this function to make a model for our favored model.  According to the Planck mission, the current favored values are as follows:\n",
    "\n",
    "*   $H_0 = 67.74$ km/s/Mpc meaning $h = 0.6774$\n",
    "*   $\\Omega_m = 0.3089$\n",
    "*   $\\Omega_{\\Lambda} = 0.6911$\n",
    "*   $\\Omega_r \\approx 0$\n",
    "*   $w = -1$\n",
    "\n",
    "The above function takes each of these values as arguments:\n",
    "\n",
    "*   h\n",
    "*   omega_m\n",
    "*   omega_r\n",
    "*   omega_L\n",
    "*   w\n",
    "\n",
    "It returns (gives us back) an array containing the time coordinate (units: Gyr), the scale factor $a$, the redshift $z$, and the 'deceleration parameter' $q$.\n",
    "\n",
    "Let's say we run the function and assign its output to x:\n",
    "\n",
    "```\n",
    "x = cosmology()\n",
    "```\n",
    "\n",
    "then we can access the results by name, e.g.,\n",
    "\n",
    "```\n",
    "a = x['a']\n",
    "t = x['t']\n",
    "z = x['z']\n",
    "q = x['q']\n",
    "```\n",
    "\n",
    "Here we run the model for the favored values and then make a plot of a vs. t.\n"
   ]
  },
  {
   "cell_type": "code",
   "execution_count": null,
   "metadata": {
    "id": "YuX26iIO2-CI"
   },
   "outputs": [],
   "source": [
    "x = cosmology(omega_m = 0.3089, omega_r = 0., omega_L = 0.6911, w = -1., h=0.6774)"
   ]
  },
  {
   "cell_type": "code",
   "execution_count": null,
   "metadata": {
    "colab": {
     "base_uri": "https://localhost:8080/",
     "height": 624
    },
    "id": "9wv0N9q33Tw6",
    "outputId": "e86f706c-1531-49e7-aa44-e79240d370a6"
   },
   "outputs": [],
   "source": [
    "figure(1,figsize=(10,10))\n",
    "plot(x['t'], x['a'],label=\"Lambda-CDM\")\n",
    "grid()\n",
    "xlabel('t [Gyr]',fontsize=20)\n",
    "xticks(fontsize=20)\n",
    "yticks(fontsize=20)\n",
    "legend()\n",
    "ylabel(r'scale factor $a$',fontsize=20);"
   ]
  },
  {
   "cell_type": "markdown",
   "metadata": {
    "id": "W4rR55K640Pp"
   },
   "source": [
    "Notice that $t=0$ is \"today\".  What is the earliest point in the evolution?"
   ]
  },
  {
   "cell_type": "code",
   "execution_count": null,
   "metadata": {
    "colab": {
     "base_uri": "https://localhost:8080/"
    },
    "id": "YVTohPSi49TM",
    "outputId": "d4e270b2-e355-4b55-bf9f-5d6038d18b44"
   },
   "outputs": [],
   "source": [
    "print('The earliest point in the simulation occured {0:6.3f} Gyr ago when the scale factor was {1:6.4f}.'.format(abs(x['t'][0]), x['a'][0]))"
   ]
  },
  {
   "cell_type": "code",
   "execution_count": null,
   "metadata": {
    "colab": {
     "base_uri": "https://localhost:8080/"
    },
    "id": "sbRgreAT5fiT",
    "outputId": "1781f564-590c-40fa-98b5-c2ea0c97229e"
   },
   "outputs": [],
   "source": [
    "print(\"At this time the redshift was z = {0:10.3f}.\".format(x['z'][0]))"
   ]
  },
  {
   "cell_type": "markdown",
   "metadata": {
    "id": "ay2K0TCF6fIl"
   },
   "source": [
    "Let's now make a plot of the redshift as a function of time.  We'll plot the redshift on a log-scale so that we can see better how much it changes in the early universe compared to today."
   ]
  },
  {
   "cell_type": "code",
   "execution_count": null,
   "metadata": {
    "colab": {
     "base_uri": "https://localhost:8080/",
     "height": 624
    },
    "id": "M-YNv87p5szJ",
    "outputId": "9c449ccf-3790-47fb-90bd-c691d95aed8b"
   },
   "outputs": [],
   "source": [
    "figure(2,figsize=(10,10))\n",
    "plot(x['t'], x['z'])\n",
    "yscale('log')\n",
    "xlabel('look back time [Gyr]',fontsize=20)\n",
    "xlim(-14,0)\n",
    "grid()\n",
    "axhline(0,ls=':')\n",
    "xticks(fontsize=20)\n",
    "yticks(fontsize=20)\n",
    "ylabel(r'redshift $z$',fontsize=20);"
   ]
  },
  {
   "cell_type": "markdown",
   "metadata": {
    "id": "BkZxOHLt62l7"
   },
   "source": [
    "# Exploring Different Models\n",
    "\n",
    "Now let's look at how changing the various parameters changes the evolution.  First, a simple one where we change the value of $h$ and leave everything else the same."
   ]
  },
  {
   "cell_type": "code",
   "execution_count": null,
   "metadata": {
    "colab": {
     "base_uri": "https://localhost:8080/",
     "height": 624
    },
    "id": "8Y5igcBm7EAp",
    "outputId": "f4c58fa6-6fac-46c3-ade5-fbda069fa159"
   },
   "outputs": [],
   "source": [
    "a1 = cosmology(omega_m = 0.3089, omega_r = 0., omega_L = 0.6911, w = -1., h=0.5)\n",
    "a2 = cosmology(omega_m = 0.3089, omega_r = 0., omega_L = 0.6911, w = -1., h=0.75)\n",
    "a3 = cosmology(omega_m = 0.3089, omega_r = 0., omega_L = 0.6911, w = -1., h=1.0)\n",
    "\n",
    "figure(3,figsize=(10,10))\n",
    "plot(a1['t'], a1['a'],label=\"h=0.50\")\n",
    "plot(a2['t'], a2['a'],label=\"h=0.75\")\n",
    "plot(a3['t'], a3['a'],label=\"h=1.00\")\n",
    "xlabel('t [Gyr]',fontsize=20)\n",
    "xticks(fontsize=20)\n",
    "yticks(fontsize=20)\n",
    "legend(fontsize=20)\n",
    "ylabel(r'scale factor $a$',fontsize=20);"
   ]
  },
  {
   "cell_type": "markdown",
   "metadata": {
    "id": "SVVtJ5yc7rNf"
   },
   "source": [
    "__How does changing $h$ influence the age of the Universe?__\n",
    "\n",
    "\n",
    "\n",
    "## Einstein-de Sitter model\n",
    "\n",
    "The EdS model has only one component, mass.  Let's run a suite of models where we vary $\\Omega_m$ and see how it influences the evolution of the Universe.  "
   ]
  },
  {
   "cell_type": "code",
   "execution_count": null,
   "metadata": {
    "colab": {
     "base_uri": "https://localhost:8080/",
     "height": 646
    },
    "id": "TA39M6Fb8Doy",
    "outputId": "45f6e3f5-3960-4269-99fa-5a3e61a427fd"
   },
   "outputs": [],
   "source": [
    "figure(4,figsize=(10,10))\n",
    "\n",
    "masses=linspace(0,20,21)\n",
    "for m in masses:\n",
    "  x=cosmology(omega_m = m, omega_r = 0, omega_L = 0, tmax=20)\n",
    "  plot(x['t'], x['a'])\n",
    "\n",
    "xlabel('t [Gyr]',fontsize=20)\n",
    "xticks(fontsize=20)\n",
    "yticks(fontsize=20)\n",
    "title(r\"Varying $\\Omega_m$\",fontsize=20)\n",
    "ylabel(r'scale factor $a$',fontsize=20);"
   ]
  },
  {
   "cell_type": "markdown",
   "metadata": {
    "id": "sEuF-gyv9HNn"
   },
   "source": [
    "__How does changing $\\Omega_m$  influence the age of the universe?__\n",
    "\n",
    "## Vary Radiation"
   ]
  },
  {
   "cell_type": "code",
   "execution_count": null,
   "metadata": {
    "colab": {
     "base_uri": "https://localhost:8080/",
     "height": 646
    },
    "id": "4uKb0cYo9Ksv",
    "outputId": "aa0dce06-944b-48b7-dc16-a7369bffc329"
   },
   "outputs": [],
   "source": [
    "figure(4,figsize=(10,10))\n",
    "\n",
    "rads=linspace(0.01,0.5,10)\n",
    "for r in rads:\n",
    "  x=cosmology(omega_m = 0.3, omega_r = r, omega_L = 0.7-r)\n",
    "  plot(x['t'], x['a'])\n",
    "\n",
    "xlabel('t [Gyr]',fontsize=20)\n",
    "xticks(fontsize=20)\n",
    "yticks(fontsize=20)\n",
    "title(r\"Varying $\\Omega_r$\",fontsize=20)\n",
    "ylabel(r'scale factor $a$',fontsize=20);"
   ]
  },
  {
   "cell_type": "markdown",
   "metadata": {
    "id": "jZ0XNzQQ-Ark"
   },
   "source": [
    "## Vary the Cosmological Constant"
   ]
  },
  {
   "cell_type": "code",
   "execution_count": null,
   "metadata": {
    "colab": {
     "base_uri": "https://localhost:8080/",
     "height": 646
    },
    "id": "S2OXGzbG-IRl",
    "outputId": "34788c19-c694-45e8-c841-bda2621a211e"
   },
   "outputs": [],
   "source": [
    "figure(5,figsize=(10,10))\n",
    "\n",
    "Lambdas=linspace(0.1,1.5,10)\n",
    "for L in Lambdas:\n",
    "  x=cosmology(omega_m = 0.3, omega_r = 0, omega_L = L)\n",
    "  plot(x['t'], x['a'])\n",
    "\n",
    "xlabel('t [Gyr]',fontsize=20)\n",
    "xticks(fontsize=20)\n",
    "yticks(fontsize=20)\n",
    "title(r\"Varying $\\Omega_{\\Lambda}$\",fontsize=20)\n",
    "ylabel(r'scale factor $a$',fontsize=20);"
   ]
  },
  {
   "cell_type": "markdown",
   "metadata": {
    "id": "q5KoLkzA_vJE"
   },
   "source": [
    "__How does varing the cosmological constant affect the age of the universe?__\n",
    "\n",
    "## Explore!\n",
    "\n",
    "Try changing other things.  Come up with a set of parameters of your own choosing and describe the evolution of the Universe under those conditions."
   ]
  },
  {
   "cell_type": "code",
   "execution_count": null,
   "metadata": {},
   "outputs": [],
   "source": []
  }
 ],
 "metadata": {
  "colab": {
   "provenance": []
  },
  "kernelspec": {
   "display_name": "Python 3 (ipykernel)",
   "language": "python",
   "name": "python3"
  },
  "language_info": {
   "codemirror_mode": {
    "name": "ipython",
    "version": 3
   },
   "file_extension": ".py",
   "mimetype": "text/x-python",
   "name": "python",
   "nbconvert_exporter": "python",
   "pygments_lexer": "ipython3",
   "version": "3.9.7"
  }
 },
 "nbformat": 4,
 "nbformat_minor": 1
}
