{
 "cells": [
  {
   "cell_type": "markdown",
   "metadata": {
    "id": "Xt_-HtaoUenL"
   },
   "source": [
    "# Cygnus A\n",
    "\n",
    "This notebook is designed to work through the homework problem on Cygnus A."
   ]
  },
  {
   "cell_type": "code",
   "execution_count": null,
   "metadata": {
    "id": "3eNX83uMUbQC"
   },
   "outputs": [],
   "source": [
    "from pylab import *\n",
    "from scipy.optimize import curve_fit\n",
    "from scipy.interpolate import UnivariateSpline\n",
    "from scipy.integrate import trapz, simps"
   ]
  },
  {
   "cell_type": "markdown",
   "metadata": {
    "id": "Wm90EaQGcffO"
   },
   "source": [
    "Here is the data in array format."
   ]
  },
  {
   "cell_type": "code",
   "execution_count": null,
   "metadata": {
    "id": "G75fcF40cCu6"
   },
   "outputs": [],
   "source": [
    "log_nu = array([7.0, 7.3, 7.7, 8.0, 8.3, 8.7, 9.0, 9.3, 9.7, 10.0])\n",
    "log_Fnu = array([-18.88, -18.55, -18.67, -18.86, -19.09, -19.38, -19.63, -19.96, -20.43, -20.79])"
   ]
  },
  {
   "cell_type": "markdown",
   "metadata": {
    "id": "QfXVobHLDrxt"
   },
   "source": [
    "We can make a scatter plot of the data, similar to what we did with Hubble's data set."
   ]
  },
  {
   "cell_type": "code",
   "execution_count": null,
   "metadata": {
    "colab": {
     "base_uri": "https://localhost:8080/",
     "height": 540
    },
    "id": "lG7h6qv-dWW_",
    "outputId": "0cd2db87-ad8f-499e-e731-94382b1dc219"
   },
   "outputs": [],
   "source": [
    "figure(1,figsize=(8,8))\n",
    "scatter(log_nu, log_Fnu, s=100, marker='s', label='Data')\n",
    "#grid();\n",
    "xticks(fontsize=20)\n",
    "yticks(fontsize=20)\n",
    "xlabel(r'$\\log(\\nu~{\\rm[Hz]})$',fontsize=20)\n",
    "ylabel(r'$\\log( F_{\\nu}~{\\rm[erg\\,s^{-1}\\,cm^{-2}\\,Hz^{-1}]})$',fontsize=20)\n",
    "legend(loc='lower left',fontsize=20)\n",
    "title('Cygnus A',fontsize=20);\n"
   ]
  },
  {
   "cell_type": "markdown",
   "metadata": {
    "id": "uhYknjbhe2f0"
   },
   "source": [
    "## Power-law Exponent, $\\alpha$\n",
    "\n",
    "The first part of the problem is to find the power-law exponent $\\alpha$ around $\\log \\nu = 8$.  We can do that very simply by calculating the slope between two points. Since $\\log \\nu = 8$ is one of the data points, we can actually do it from above and below, and take the average."
   ]
  },
  {
   "cell_type": "code",
   "execution_count": null,
   "metadata": {
    "colab": {
     "base_uri": "https://localhost:8080/"
    },
    "id": "JE5Txw3Cdpnr",
    "outputId": "a3e94b5c-9050-4445-d7ea-9e7095142595"
   },
   "outputs": [],
   "source": [
    "log_nu[3]"
   ]
  },
  {
   "cell_type": "markdown",
   "metadata": {
    "id": "yg2jqvAwW_hC"
   },
   "source": [
    "Recall that the slope of a line (segment) is calculated by ''rise over run'',\n",
    "\n",
    "${\\rm slope} = \\frac{y_2-y_1}{x_2 - x_1}$\n",
    "\n",
    "Below we do just that, calculate the slope from one side and the other and take their average.  In this case the $\\log F_{\\nu}$ data is our 'y' and the $\\log \\nu$ is our 'x'.  We'll use two adjancent segments to calculate the slope:"
   ]
  },
  {
   "cell_type": "code",
   "execution_count": null,
   "metadata": {
    "colab": {
     "base_uri": "https://localhost:8080/"
    },
    "id": "PfYH6y-ufYvB",
    "outputId": "812789fc-f54d-4f01-9625-1ace8b38791d"
   },
   "outputs": [],
   "source": [
    "slope32 = (log_Fnu[3]-log_Fnu[2])/(log_nu[3]-log_nu[2])\n",
    "slope43 = (log_Fnu[4]-log_Fnu[3])/(log_nu[4]-log_nu[3])\n",
    "print('The average slope about the point of interest is {0:5.2f}.'.format(0.5*(slope32+slope43)))"
   ]
  },
  {
   "cell_type": "markdown",
   "metadata": {
    "id": "9Pi8pkD5gQEc"
   },
   "source": [
    "But what if the situation was more complicated than this?  While there's certainly nothing wrong with the above, our data might be less uniformly distributed.  So let's use a more sophisticated approach!\n",
    "\n",
    "We can fit a polynomial function (we don't even care exactly what the formula for it is) and then find the slope of that polynomial as follows.\n",
    "\n",
    "Here we can use the Univartiate Spline class from SciPy."
   ]
  },
  {
   "cell_type": "code",
   "execution_count": null,
   "metadata": {
    "id": "g-IcB1ExSKM7"
   },
   "outputs": [],
   "source": [
    "?UnivariateSpline"
   ]
  },
  {
   "cell_type": "markdown",
   "metadata": {
    "id": "EsZXSv83SSv9"
   },
   "source": [
    "To use this class we need to give it the x- and y-data as well as the degree of the spline used to approximate the data.  The degree is given by `k`; if you omit this k argument, it will use a cubic spline to fit the data.  Here we'll try splines of degree 1, 2, and 3."
   ]
  },
  {
   "cell_type": "code",
   "execution_count": null,
   "metadata": {
    "id": "rsuVrgVhgwNY"
   },
   "outputs": [],
   "source": [
    "f1=UnivariateSpline(x=log_nu[1:], y=log_Fnu[1:], k=1)\n",
    "f2=UnivariateSpline(x=log_nu[1:], y=log_Fnu[1:], k=2)\n",
    "f3=UnivariateSpline(x=log_nu[1:], y=log_Fnu[1:], k=3)"
   ]
  },
  {
   "cell_type": "markdown",
   "metadata": {
    "id": "_Al1e3s1jb5K"
   },
   "source": [
    "You'll notice, if you look closely, that I am ignoring the first data point (using the array index [1:]).  We're interested in the behavior of the data around $\\log \\nu = 8$ and that first data point will significantly influence the shape of our interpolating polynomial."
   ]
  },
  {
   "cell_type": "code",
   "execution_count": null,
   "metadata": {
    "colab": {
     "base_uri": "https://localhost:8080/",
     "height": 540
    },
    "id": "4BPnbjAHg7Bj",
    "outputId": "7f146c0f-afeb-4255-d5dd-1558738fd169"
   },
   "outputs": [],
   "source": [
    "figure(2,figsize=(8,8))\n",
    "scatter(log_nu, log_Fnu, s=100, marker='s', color='Black', label='Data')\n",
    "\n",
    "x=linspace(7.2,9.8,1000)\n",
    "plot(x, f1(x), label='Linear', lw=2)\n",
    "plot(x, f2(x), label='Quadratic', lw=2)\n",
    "plot(x, f3(x), label='Cubic', lw=2, ls='--')\n",
    "\n",
    "xticks(fontsize=20)\n",
    "yticks(fontsize=20)\n",
    "xlabel(r'$\\log(\\nu~{\\rm[Hz]})$',fontsize=20)\n",
    "ylabel(r'$\\log( F_{\\nu}~{\\rm[erg\\,s^{-1}\\,cm^{-2}\\,Hz^{-1}]})$',fontsize=20)\n",
    "\n",
    "legend(loc='lower left',fontsize=20)\n",
    "title('Cygnus A', fontsize=20);"
   ]
  },
  {
   "cell_type": "markdown",
   "metadata": {
    "id": "b9sfmZZQj5g2"
   },
   "source": [
    "We used the `UnivariateSpline` function here because it has a method attached to it that allows you to obtain the derivative at a specific point.  The  command below creates a new function that returns the derivative (slope) of the function at that point.  We then use the created function to evaluate the derivative at $\\log \\nu = 8$.:"
   ]
  },
  {
   "cell_type": "code",
   "execution_count": null,
   "metadata": {
    "colab": {
     "base_uri": "https://localhost:8080/"
    },
    "id": "AEtxk65OkDQI",
    "outputId": "46e89925-5695-4136-9070-956476f5106b"
   },
   "outputs": [],
   "source": [
    "df1=f1.derivative()\n",
    "df1(8.0).item()"
   ]
  },
  {
   "cell_type": "code",
   "execution_count": null,
   "metadata": {
    "colab": {
     "base_uri": "https://localhost:8080/"
    },
    "id": "yIslnIW7hMdh",
    "outputId": "74e5443b-5a53-4208-f28e-f933f44a765f"
   },
   "outputs": [],
   "source": [
    "df2=f2.derivative()\n",
    "df2(8.0).item()"
   ]
  },
  {
   "cell_type": "code",
   "execution_count": null,
   "metadata": {
    "colab": {
     "base_uri": "https://localhost:8080/"
    },
    "id": "1Qs-cTAmkf3Y",
    "outputId": "a629f68b-b55e-42d0-bf41-f06112402e67"
   },
   "outputs": [],
   "source": [
    "df3=f3.derivative()\n",
    "df3(8.0).item()"
   ]
  },
  {
   "cell_type": "markdown",
   "metadata": {
    "id": "Sba8lmmrVqvF"
   },
   "source": [
    "Keep in mind that we write the equation $F_{\\nu}=\\nu^{-\\alpha}$.\n",
    "\n",
    "__Which spline deriviate do you think gives the best estimate of the power law exponent? Explain.__"
   ]
  },
  {
   "cell_type": "markdown",
   "metadata": {
    "id": "5mxhwrC_YTUX"
   },
   "source": [
    "## Integrate to find Total Luminosity\n",
    "\n",
    "The second part of the question asks you to integrate $F_{\\nu}$ to get the total luminosity.  This can be done in 2 parts.  The first is to actually integrate, which gives the total *flux* and then use the relationship between distance D, flux F, and luminosity L.  The simplest way to do that is to use a numerical integration method, like Simpson's Rule.  SciPy has a convenient version of it that we can use here."
   ]
  },
  {
   "cell_type": "code",
   "execution_count": null,
   "metadata": {
    "id": "1xHddZggevZn"
   },
   "outputs": [],
   "source": [
    "?simps"
   ]
  },
  {
   "cell_type": "markdown",
   "metadata": {
    "id": "aKg761VfZ0og"
   },
   "source": [
    "Here is an example where we integrate the function $y= x^2$ from x=0 to 5 using different methods.  (What's the analytical answer?)\n",
    "\n",
    "Here we'll create an array of 11 equally spaced x-values from 0 to 5 and then make $y=x^2$.  After that it's simply a matter of giving the `simps` function these arrays to work on:"
   ]
  },
  {
   "cell_type": "code",
   "execution_count": null,
   "metadata": {
    "colab": {
     "base_uri": "https://localhost:8080/"
    },
    "id": "xXnYAai-avhL",
    "outputId": "f997d50f-b0ed-41ea-c8b8-6aa03d8d90dc"
   },
   "outputs": [],
   "source": [
    "x=linspace(0,5,11)\n",
    "y=x*x\n",
    "simps(y,x)"
   ]
  },
  {
   "cell_type": "markdown",
   "metadata": {
    "id": "_SjKaoyxbqjy"
   },
   "source": [
    "Note that this functions take $y$ as the first input and $x$ as the second.  So unless you give the names, e.g., `simps(x=x, y=y)`, you have to put $y$ first."
   ]
  },
  {
   "cell_type": "markdown",
   "metadata": {
    "id": "eOoBTsHwcH8v"
   },
   "source": [
    "From this point you can use the same technique to calculate the integral $F=\\int_a^b F_{\\nu} d\\nu$.  Note that you can obtain the linear (unlogged) versions of these arrays using the `pow()` function."
   ]
  },
  {
   "cell_type": "code",
   "execution_count": null,
   "metadata": {
    "id": "8C7LfJCuc7g1"
   },
   "outputs": [],
   "source": [
    "?pow"
   ]
  },
  {
   "cell_type": "code",
   "execution_count": null,
   "metadata": {
    "id": "DvREU-4acxf_"
   },
   "outputs": [],
   "source": [
    "Fnu = pow(10,log_Fnu)\n",
    "nu = pow(10,log_nu)"
   ]
  },
  {
   "cell_type": "code",
   "execution_count": null,
   "metadata": {
    "colab": {
     "base_uri": "https://localhost:8080/"
    },
    "id": "uqbnuCmlWQ33",
    "outputId": "b18a8d24-2e1e-4d4e-809b-059f18a9a142"
   },
   "outputs": [],
   "source": [
    "simps(Fnu,nu)"
   ]
  },
  {
   "cell_type": "code",
   "execution_count": null,
   "metadata": {},
   "outputs": [],
   "source": []
  }
 ],
 "metadata": {
  "colab": {
   "provenance": []
  },
  "kernelspec": {
   "display_name": "Python 3 (ipykernel)",
   "language": "python",
   "name": "python3"
  },
  "language_info": {
   "codemirror_mode": {
    "name": "ipython",
    "version": 3
   },
   "file_extension": ".py",
   "mimetype": "text/x-python",
   "name": "python",
   "nbconvert_exporter": "python",
   "pygments_lexer": "ipython3",
   "version": "3.9.7"
  }
 },
 "nbformat": 4,
 "nbformat_minor": 1
}
