{
 "cells": [
  {
   "cell_type": "markdown",
   "metadata": {
    "id": "Djc55YOWKlTT"
   },
   "source": [
    "# Introduction\n",
    "\n",
    "The purpose of this notebook is to give an introduction to research with the CMB.  First, we'll use one of the major codes that are used to calculate cosmological models: not just the evolution of the scale factor over time, like we've already done in class, but also the power spectrum and many other things.  Second, we'll take a look at the data from the Planck satellite and compare it to our theoretical model.\n",
    "\n",
    "This notebook is also the basis for Problem Set 4."
   ]
  },
  {
   "cell_type": "markdown",
   "metadata": {
    "id": "8A_wRCPVswMm"
   },
   "source": [
    "# CAMB\n",
    "The Code for Anisotropies in the Microwave Background (CAMB) calculates the CMB power spectrum for a given set of input cosmological parameters.  It also has a more sophisticated cosmology solver (like we wrote in the 1st homework) that can do thinks like calculate distance as a function of redshift -- very handy!\n",
    "\n",
    "We will only scratch the surface of what CAMB can do.  In addition to the Python interface, there is also a [web server](https://lambda.gsfc.nasa.gov/toolbox/camb_online.html) that will generate a CAMB model for you.  It is an easier way to see all of the possible input parameters."
   ]
  },
  {
   "cell_type": "markdown",
   "metadata": {
    "id": "TZ2aNgYyvyG-"
   },
   "source": [
    "We can specify what we want it to do and details about our cosmology, other assumptions through `CAMBparams`."
   ]
  },
  {
   "cell_type": "code",
   "execution_count": null,
   "metadata": {
    "id": "ufJxZ2WtuFPZ"
   },
   "outputs": [],
   "source": [
    "\n",
    "from pylab import *\n",
    "import camb\n",
    "from camb import model, initialpower"
   ]
  },
  {
   "cell_type": "markdown",
   "metadata": {
    "id": "KpATa6yOJN1x"
   },
   "source": [
    "## Creating a Cosmological Model\n",
    "\n",
    "To begin with we need to create a new instance of a CAMB model."
   ]
  },
  {
   "cell_type": "code",
   "execution_count": null,
   "metadata": {
    "id": "NhL-N2-iv8mY"
   },
   "outputs": [],
   "source": [
    "model = camb.CAMBparams()"
   ]
  },
  {
   "cell_type": "markdown",
   "metadata": {
    "id": "xvHEGoC3JXor"
   },
   "source": [
    "Once we have created this new model, we can access some functions.  These three are required for generating a power spectrum."
   ]
  },
  {
   "cell_type": "code",
   "execution_count": null,
   "metadata": {
    "id": "nl299CRlwKG4"
   },
   "outputs": [],
   "source": [
    "model.set_cosmology?"
   ]
  },
  {
   "cell_type": "code",
   "execution_count": null,
   "metadata": {
    "id": "ebjFZ48yy4nN"
   },
   "outputs": [],
   "source": [
    "model.InitPower.set_params?"
   ]
  },
  {
   "cell_type": "code",
   "execution_count": null,
   "metadata": {
    "id": "wbyIdikDzB1w"
   },
   "outputs": [],
   "source": [
    "model.set_for_lmax?"
   ]
  },
  {
   "cell_type": "markdown",
   "metadata": {
    "id": "8o5GiLCNySf2"
   },
   "source": [
    "First, let's create a cosmology with Planck 2018 parameters, using Table 1 from the [Planck 2018 paper VI.](https://arxiv.org/pdf/1807.06209.pdf); the table is on p. 15.  Note that running this next cell will produce a lot of text as output.  Something to consider: Why are each of these parameters relevant?  We haven't talked about all of them yet so it's okay if you don't know."
   ]
  },
  {
   "cell_type": "code",
   "execution_count": null,
   "metadata": {
    "id": "5WOIe0CpwISF"
   },
   "outputs": [],
   "source": [
    "model.set_cosmology(H0=67.37,\n",
    "                   ombh2=0.02233, #baryon density\n",
    "                   omch2=0.1198, #cold dark matter density\n",
    "                   mnu=0.06, #single massive neutrino, mass in eV\n",
    "                   omk=0, #curvature is flat\n",
    "                   tau=0.054 #optical depth at reionization\n",
    "                   )\n",
    "model.InitPower.set_params(As=2.097e-9, ns=0.9652, r=0)\n",
    "model.set_for_lmax(2000);"
   ]
  },
  {
   "cell_type": "markdown",
   "metadata": {
    "id": "zWaCs79r0HQd"
   },
   "source": [
    "## Computing a Power Spectrum from the Model\n",
    "\n",
    "Now we can run the code and generate some output, which includes the power spectrum.  You can also do things like get the current age of the Universe for the input cosmology.  See [this link](https://camb.readthedocs.io/en/latest/camb.html) for all of the top-level things you can do with CAMB."
   ]
  },
  {
   "cell_type": "code",
   "execution_count": null,
   "metadata": {
    "id": "LYXYWrzn0B8k"
   },
   "outputs": [],
   "source": [
    "age = camb.get_age(model)\n",
    "print(\"Age of the Universe is {0:6.3f} Gyr.\".format(age))"
   ]
  },
  {
   "cell_type": "markdown",
   "metadata": {
    "id": "QnKITD2n0fRi"
   },
   "source": [
    "And we can now plot the power spectrum.  Note that the output has much more information than we'll use so feel free to explore!\n",
    "\n",
    "The different $C_{\\ell}$ are always in the order TT, EE, BB, TE (with BB=0 for unlensed scalar results)."
   ]
  },
  {
   "cell_type": "code",
   "execution_count": null,
   "metadata": {
    "id": "9tT-NIzBNW5L"
   },
   "outputs": [],
   "source": [
    "results = camb.get_results(model)\n",
    "?results.get_cmb_power_spectra"
   ]
  },
  {
   "cell_type": "code",
   "execution_count": null,
   "metadata": {
    "id": "JWEjUI-gwJ52"
   },
   "outputs": [],
   "source": [
    "powers =results.get_cmb_power_spectra(model, CMB_unit='muK')"
   ]
  },
  {
   "cell_type": "markdown",
   "metadata": {
    "id": "-cDhJUhGOqdW"
   },
   "source": [
    "Actually, what `results` gives us is the $D_{\\ell} = \\ell (\\ell + 1) C_{\\ell}/2 \\pi$.  Recall from last time that $\\sqrt{D_{\\ell}} = \\Delta T/T_0$."
   ]
  },
  {
   "cell_type": "code",
   "execution_count": null,
   "metadata": {
    "id": "GRQu5jyR0lPf"
   },
   "outputs": [],
   "source": [
    "figure(1,figsize=(12,8))\n",
    "Dl=powers['total']\n",
    "plot(Dl[:,0], color='MediumOrchid', lw=2, label='H0=67');\n",
    "xlim(2,2000) #first 2 ell-values are zero.\n",
    "ylabel(r'$D^{TT}_{\\ell}~[\\mu K^2]$',fontsize=18)\n",
    "xticks(fontsize=18)\n",
    "yticks(fontsize=18)\n",
    "legend(loc='upper right',frameon=False,fontsize=18)\n",
    "xlabel(r'$\\ell$',fontsize=18)\n",
    "title(\"Figure 1\",fontsize=18);"
   ]
  },
  {
   "cell_type": "markdown",
   "metadata": {
    "id": "m9-CuaC84OrH"
   },
   "source": [
    "## Make some other plots!\n",
    "Starting from our Figure 1, make a plot of $\\sqrt{D_{\\ell}}$, which is the temperature fluctuation in $\\mu$K.\n",
    "\n",
    "\n",
    "Use Figure 1 as a template to plot some of the polarization modes and cross-correlations (EE, TE, BB) as well.  When we asked for help on `results.get_cmb_power_spectra`, it says `where 0..3 index\n",
    "are TT, EE, BB, TE` so when we made Figure 1, $D^{TT}_{\\ell}$ we used `Dl[:,0]` (with zero for the second index of the `Dl` array.  To plot one of the polarization modes ($D^{EE}_{\\ell}$) we'd used 1 instead of zero, and so on.\n",
    "\n",
    "\n",
    "## Comparing to Planck Data\n",
    "\n",
    "Does it look at all like the real thing?  Let's find out.\n",
    "\n",
    "Here we'll plot our modelled power spectrum again along with the most recent data from Planck.  First we'll download the data file from NASA and then read it into memory."
   ]
  },
  {
   "cell_type": "code",
   "execution_count": null,
   "metadata": {
    "id": "9xB0yzQ46bLv"
   },
   "outputs": [],
   "source": [
    "planck=genfromtxt('./data/TT_data_2020aug_csv_format.dat',skip_header=2,names=True,delimiter=',')"
   ]
  },
  {
   "cell_type": "markdown",
   "metadata": {
    "id": "zIWlI_416lUS"
   },
   "source": [
    "And make a comparison plot. The error bars on the high-$\\ell$ points are tiny!"
   ]
  },
  {
   "cell_type": "code",
   "execution_count": null,
   "metadata": {
    "id": "Vbgoj7xj4hnf"
   },
   "outputs": [],
   "source": [
    "figure(2,figsize=(12,8))\n",
    "errorbar(x=planck['l_center'], y=planck['Power'], yerr=vstack((planck['Sigma_minus'], planck['Sigma_plus'])), fmt='+', color='MediumSeaGreen',label='Planck data')\n",
    "#plot(Dl[:,0], color='MediumOrchid',label='CAMB model');\n",
    "xlim(2,2000) #first 2 ell-values are zero.\n",
    "ylabel(r'$D^{TT}_{\\ell}~[\\mu K^2]$',fontsize=18)\n",
    "xticks(fontsize=18)\n",
    "yticks(fontsize=18)\n",
    "legend(loc='upper right',frameon=False,fontsize=18)\n",
    "xlabel(r'$\\ell$',fontsize=18)\n",
    "title(\"Figure 2\",fontsize=18);"
   ]
  },
  {
   "cell_type": "markdown",
   "metadata": {
    "id": "iSM0pEiz6CpG"
   },
   "source": [
    "Let's also make a log-plot so that we can see what's going on at low $\\ell$."
   ]
  },
  {
   "cell_type": "code",
   "execution_count": null,
   "metadata": {
    "id": "hxDZMA_u52QU"
   },
   "outputs": [],
   "source": [
    "figure(3,figsize=(12,8))\n",
    "errorbar(x=planck['l_center'], y=planck['Power'], yerr=vstack((planck['Sigma_minus'], planck['Sigma_plus'])), fmt='o', color='MediumSeaGreen', label='Planck data')\n",
    "plot(Dl[:,0], color='MediumOrchid',label='CAMB model');\n",
    "xlim(2,2000) #first 2 ell-values are zero.\n",
    "ylabel(r'$D^{TT}_{\\ell}~[\\mu K^2]$',fontsize=18)\n",
    "xticks(fontsize=18)\n",
    "yticks(fontsize=18)\n",
    "xscale('log')\n",
    "legend(loc='upper left',frameon=False,fontsize=18)\n",
    "xlabel(r'$\\ell$',fontsize=18)\n",
    "title(\"Figure 3\",fontsize=18);"
   ]
  },
  {
   "cell_type": "markdown",
   "metadata": {
    "id": "n3zl6gZO5fbD"
   },
   "source": [
    "This is great!  It looks like some of the plots we looked at in class.  Of course, the good agreement between the data and the model is due to the fact that we're using the Planck 2018 parameters."
   ]
  },
  {
   "cell_type": "markdown",
   "metadata": {
    "id": "BmiHA1hnBUq7"
   },
   "source": [
    "## Temperature Fluctuations from the Power Spectrum\n",
    "\n",
    "We're accustomed to seeing the map of temperature fluctuations from a CMB experiment.  All the information required to compute such a map is stored in the power spectrum.  The following code allows us to make a small section of the full-sky map given the size of the image, number of pixels, and the input power spectrum $D_{\\ell}$.\n",
    "\n",
    "Run the code in the cell below; this contains two functions that will generate maps.  Run the following cell to create a plot.  Then run it again.  The map is a random realization of the power spectrum so each map will be different but look qualitatively the same.\n",
    "\n",
    "You can fix the random number generator by setting the random seed using `np.random.seed(<some integer>)`.  This is necessary if you want to change the cosmological parameters but keep the map otherwise the same.\n",
    "\n",
    "Try it for our standard model and your large variation.  How do the two maps compare?  Plot them side-by-side if possible.\n",
    "\n",
    "I think the colormap that is typically used here is `Spectral_r` but you can try out a different one if you like.  Here is the [full list](https://matplotlib.org/stable/tutorials/colors/colormaps.html) of colormaps that you can choose from."
   ]
  },
  {
   "cell_type": "code",
   "execution_count": null,
   "metadata": {
    "cellView": "form",
    "id": "6z8TYJIr9dSD"
   },
   "outputs": [],
   "source": [
    "#@title\n",
    "def make_CMB_T_map(N,pix_size,ell,DlTT):\n",
    "    \"makes a realization of a simulated CMB sky map\"\n",
    "\n",
    "    # convert Dl to Cl\n",
    "    ClTT = DlTT * 2 * np.pi / (ell*(ell+1))\n",
    "    ClTT[0] = 0\n",
    "    ClTT[1] = 0\n",
    "\n",
    "    # make a 2d coordinate system\n",
    "    ones = np.ones(N)\n",
    "    inds  = (np.arange(N)+0.5 - N/2) /(N-1)\n",
    "    X = np.outer(ones,inds)\n",
    "    Y = np.transpose(X)\n",
    "    R = np.sqrt(X**2 + Y**2)\n",
    "\n",
    "    # now make a 2d CMB power spectrum\n",
    "    ell_scale_factor = 2 * np.pi / (pix_size/60 * np.pi/180)\n",
    "    ell2d = R * ell_scale_factor\n",
    "    ClTT_expanded = np.zeros(int(ell2d.max())+1)\n",
    "    ClTT_expanded[0:(ClTT.size)] = ClTT\n",
    "    CLTT2d = ClTT_expanded[ell2d.astype(int)]\n",
    "\n",
    "    # now make a realization of the CMB with the given power spectrum in fourier space\n",
    "    ramdomn_array_for_T = np.fft.fft2(np.random.normal(0,1,(N,N)))\n",
    "    FT_2d = np.sqrt(CLTT2d) * ramdomn_array_for_T\n",
    "    CMB_T = np.fft.ifft2(np.fft.fftshift(FT_2d)) /(pix_size /60* np.pi/180)\n",
    "    CMB_T = np.real(CMB_T)\n",
    "\n",
    "    ## return the map\n",
    "    return(CMB_T)\n",
    "\n",
    "def Plot_CMB_Map(Map_to_Plot,c_min,c_max,X_width,Y_width):\n",
    "    from mpl_toolkits.axes_grid1 import make_axes_locatable\n",
    "    print(\"map mean (muK):\",np.mean(Map_to_Plot),\"map rms (muK):\",np.std(Map_to_Plot))\n",
    "    plt.figure(figsize=(10,10))\n",
    "    im = plt.imshow(Map_to_Plot, interpolation='bilinear', origin='lower',cmap=cm.Spectral_r);\n",
    "    im.set_clim(c_min,c_max)\n",
    "    ax=plt.gca()\n",
    "    divider = make_axes_locatable(ax)\n",
    "    cax = divider.append_axes(\"right\", size=\"5%\", pad=0.05)\n",
    "\n",
    "    cbar = plt.colorbar(im, cax=cax)\n",
    "    im.set_extent([0,X_width,0,Y_width])\n",
    "    plt.show()\n",
    "    return"
   ]
  },
  {
   "cell_type": "code",
   "execution_count": null,
   "metadata": {
    "id": "vP-GFzGx-4Kb"
   },
   "outputs": [],
   "source": [
    "#here I am defining the array of l-values that correspond to the Dl\n",
    "ell=arange(0,len(Dl[:,0]))\n",
    "\n",
    "# this is the number of pixels in a linear dimension, should be a power of 2\n",
    "N = pow(2,10)\n",
    "\n",
    "pixel_size  = 0.5  # size of a pixel in arcminutes\n",
    "\n",
    "## variables to set up the map plots\n",
    "c_min = int(-400)  # minimum for color bar\n",
    "c_max = int(400)   # maximum for color bar\n",
    "X_width = N*pixel_size/60  # horizontal map width in degrees\n",
    "Y_width = N*pixel_size/60 # vertical map width in degrees\n",
    "\n",
    "#comment the next line to get different maps each time you run this cell\n",
    "#np.random.seed(1111)\n",
    "\n",
    "## make a CMB T map\n",
    "CMB_T =make_CMB_T_map(N,pixel_size,ell,Dl[:,0]);\n",
    "p = Plot_CMB_Map(CMB_T,c_min,c_max,X_width,Y_width);\n"
   ]
  },
  {
   "cell_type": "markdown",
   "metadata": {
    "id": "DDSBZbg8-WH5"
   },
   "source": [
    "Notice that to create the above plot we simply feed it $\\ell$ and $D^{TT}_{\\ell}$, along with some information about the number and size of the pixels.  That's because the power spectrum is really just the amplitudes of the temperature variations as a function of the (inverse) of the angular separations of those fluctuations.  The code that creates the map above just uses Fourier transforms to generate a random map given the power spectrum.\n",
    "\n",
    "The preceding exercises are all about the theoretical side of the CMB.  The section that follows dives into the observational side.\n"
   ]
  },
  {
   "cell_type": "markdown",
   "metadata": {
    "id": "v3iNSRWkG-oP"
   },
   "source": [
    "# Healpy\n",
    "\n",
    "There is a very powerful library called `healpy`, based on `HEALPix` ([more here](https://healpix.jpl.nasa.gov/pdf/intro.pdf)).  First we install the library and import it."
   ]
  },
  {
   "cell_type": "code",
   "execution_count": null,
   "metadata": {
    "id": "bTnntBiAG3Dc"
   },
   "outputs": [],
   "source": [
    "import healpy as hp"
   ]
  },
  {
   "cell_type": "markdown",
   "metadata": {
    "id": "zhgWE0jxIyDv"
   },
   "source": [
    "Next we'll download the temperature maps from Planck Data Release 3.  These are large files so may take a minute or two."
   ]
  },
  {
   "cell_type": "code",
   "execution_count": null,
   "metadata": {
    "id": "N5JLZGC0IeBk"
   },
   "outputs": [],
   "source": [
    "filename = './data/COM_CMB_IQU-commander_2048_R3.00_full.fits'\n",
    "cmb_map = hp.read_map(filename)"
   ]
  },
  {
   "cell_type": "markdown",
   "metadata": {
    "id": "qW3BS_d3JFJ4"
   },
   "source": [
    "This is the 'unmasked' map that includes Galactic emission.  To view it we'll use the Mollweide projection, as discussed previously.  The following produces a colormap that shows variations at the level of $10^{-3}$ K."
   ]
  },
  {
   "cell_type": "code",
   "execution_count": null,
   "metadata": {
    "id": "0QA17j-1IsJK"
   },
   "outputs": [],
   "source": [
    "hp.mollview(cmb_map, min=-1e-3, max=1e-3, title=\"CMB only temperature map\", unit=\"K\")"
   ]
  },
  {
   "cell_type": "markdown",
   "metadata": {
    "id": "SL3ZmRYfJJjf"
   },
   "source": [
    "And this is the masked version where masks have been applied to remove the Galaxy and various point sources."
   ]
  },
  {
   "cell_type": "code",
   "execution_count": null,
   "metadata": {
    "id": "MkqroA0eJNet"
   },
   "outputs": [],
   "source": [
    "path = './data/COM_Mask_CMB-common-Mask-Int_2048_R3.00.fits'\n",
    "mask = hp.read_map(path)\n",
    "map_masked = hp.ma(cmb_map)\n",
    "map_masked.mask = np.logical_not(mask)\n",
    "hp.mollview(map_masked, min=-1e-3, max=1e-3, title=\"CMB only temperature map\", unit=\"K\")"
   ]
  },
  {
   "cell_type": "markdown",
   "metadata": {
    "id": "huPFZcMjJ0T6"
   },
   "source": [
    "We can use the `healpy` library to calculate the power spectrum from these data.  Adapted from [here](https://zonca.dev/2021/02/compute-planck-spectra-healpy-anafast.html)."
   ]
  },
  {
   "cell_type": "code",
   "execution_count": null,
   "metadata": {
    "id": "i4HFPgloKBFn"
   },
   "outputs": [],
   "source": [
    "?hp.anafast"
   ]
  },
  {
   "cell_type": "markdown",
   "metadata": {
    "id": "Q5FybcAhC9kQ"
   },
   "source": [
    "The following cell will first make a power spectrum from the Planck data and then plot it together with the standard CAMB model we created above.  Note that the Healpy `anafast` routine returns $C_{\\ell}$ so we need to convert to $D_{\\ell}$ to compare with our CAMB model (or the reverse)."
   ]
  },
  {
   "cell_type": "code",
   "execution_count": null,
   "metadata": {
    "id": "bHbdWI3qJe6J"
   },
   "outputs": [],
   "source": [
    "lmax = 2000\n",
    "test_cls_meas_frommap = hp.anafast(map_masked, lmax=lmax, use_pixel_weights=True)\n",
    "ll = np.arange(lmax+1)\n",
    "sky_fraction = len(map_masked.compressed()) / len(map_masked)\n",
    "print(f\"The map covers {sky_fraction:.1%} of the sky\")\n",
    "plt.style.use(\"seaborn-v0_8-poster\")\n",
    "k2muK = 1e6\n",
    "\n",
    "plot(ell,Dl[:,0],color='MediumOrchid',label='CAMB model')\n",
    "plot(ll, ll*(ll+1.)*test_cls_meas_frommap*pow(k2muK,2)/2./pi / sky_fraction, '--', color='MediumSeaGreen', alpha=0.6, label='Planck 2018 Data')\n",
    "xlabel(r'$\\ell$')\n",
    "ylabel(r'$D_\\ell~[\\mu K^2]$')\n",
    "legend(loc='best');"
   ]
  },
  {
   "cell_type": "markdown",
   "metadata": {
    "id": "EWUg6MSJKcRb"
   },
   "source": [
    "This looks OK but not great.  What's missing?  The width of the 'beam' when the satellite is observing is about 5 arcminutes.  As a first order correction, we can divide the measurements by the width of the beam."
   ]
  },
  {
   "cell_type": "code",
   "execution_count": null,
   "metadata": {
    "id": "e9BJgIw4KogI"
   },
   "outputs": [],
   "source": [
    "import astropy.units as u\n",
    "width = hp.gauss_beam((5*u.arcmin).to_value(u.radian), lmax=lmax)\n",
    "plot(ell,Dl[:,0],color='MediumOrchid',label='CAMB model')\n",
    "\n",
    "plot(ll, ll*(ll+1.)*test_cls_meas_frommap*k2muK**2/2./np.pi / sky_fraction / pow(width,2),\n",
    "         color='MediumSeaGreen', alpha=0.6, label='Planck 2018 Data (beam corrected)')\n",
    "xlabel(r'$\\ell$')\n",
    "ylabel(r'$D_\\ell~[\\mu K^2]$')\n",
    "legend(loc='best');"
   ]
  },
  {
   "cell_type": "markdown",
   "metadata": {
    "id": "XjKo9u7BLGS9"
   },
   "source": [
    "This is much better but still far from perfect.  To do any better than this we would have to do a full and proper analysis.  The Planck data file that we used to make Figures 2 and 3 above takes into account all of the sky masks as well as the beam size in great detail (that paper was 92 pages long!), which is way beyond the scope of this class!\n",
    "\n",
    "## The End"
   ]
  },
  {
   "cell_type": "code",
   "execution_count": null,
   "metadata": {},
   "outputs": [],
   "source": []
  }
 ],
 "metadata": {
  "colab": {
   "provenance": []
  },
  "kernelspec": {
   "display_name": "Python 3 (ipykernel)",
   "language": "python",
   "name": "python3"
  },
  "language_info": {
   "codemirror_mode": {
    "name": "ipython",
    "version": 3
   },
   "file_extension": ".py",
   "mimetype": "text/x-python",
   "name": "python",
   "nbconvert_exporter": "python",
   "pygments_lexer": "ipython3",
   "version": "3.9.7"
  }
 },
 "nbformat": 4,
 "nbformat_minor": 1
}
