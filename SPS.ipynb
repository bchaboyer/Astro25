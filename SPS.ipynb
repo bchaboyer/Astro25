{
 "cells": [
  {
   "cell_type": "markdown",
   "metadata": {
    "id": "SW_eRHRHUTPq"
   },
   "source": [
    "#  Simple Stellar Population Synthesis (SPS)\n",
    "\n",
    "This is a guided activity that will also serve as the basis for Problem Set 5.  \n",
    "\n",
    "You can work together with a partner in class but each person should submit their own answers to the questions.  If you choose to work together with someone, please indicate this on the document you turn in.\n",
    "\n",
    "\n",
    "------------------------------\n",
    "\n",
    "## Introduction\n",
    "To model the spectral energy distribution of a simple stellar population we need three things:\n",
    "\n",
    "1.   Models of the spectral energy distributions of stars as a function of temperature, gravity, and composition - stellar atmospheres\n",
    "2.   Models of the properties of stars as a function of stellar mass and time - stellar evolution\n",
    "3.   A characterization of the number of stars as a function of stellar mass - initial mass function\n",
    "\n",
    "In this notebook we'll cover all three in turn, make some simple stellar population models at the end, and see how they evolve as a function of redshift.\n",
    "\n",
    "To begin with, we need to load some modules."
   ]
  },
  {
   "cell_type": "code",
   "execution_count": null,
   "metadata": {
    "id": "jxIgC91xHyag"
   },
   "outputs": [],
   "source": [
    "from pylab import *\n",
    "from scipy.integrate import simps\n",
    "\n",
    "import warnings  #these lines get rid of some annoying errors . . .\n",
    "warnings.filterwarnings(\"ignore\", category=RuntimeWarning)"
   ]
  },
  {
   "cell_type": "markdown",
   "metadata": {
    "id": "JeRR-xwyygXU"
   },
   "source": [
    "## Constants\n",
    "\n",
    "This section sets the values of some constants.  All of these are in cgs units.  These include Planck's constant $h$, Boltzmann's constant $k_B$, the speed of light $c$, and the Stefan-Boltzmann constant $\\sigma$, which is derived from the other three.  This is followed by some solar units, $M_{\\odot}$, $R_{\\odot}$, $L_{\\odot}$, and $T_{\\rm eff,\\odot}$."
   ]
  },
  {
   "cell_type": "code",
   "execution_count": null,
   "metadata": {
    "id": "FqQKaI2fyctg"
   },
   "outputs": [],
   "source": [
    "#Physical\n",
    "h=6.6261e-27\n",
    "kB=1.3807e-16\n",
    "c=2.99792458e10\n",
    "sigma=2*pow(pi,5)*pow(kB,4)/(15*c*c*h*h*h)\n",
    "\n",
    "#Astronomical\n",
    "Msun = 1.99e33 #g\n",
    "Rsun = 6.957e10 #cm\n",
    "Lsun = 3.828e33 #erg/s\n",
    "Tsun = 5772. #K\n",
    "AU = 1.496e13 #cm\n",
    "pc = 206265*AU #cm\n",
    "pc10 = 10*pc #10 parsecs [in cm]\n",
    "const = 4*pi*pc10*pc10 #factor for absolute magnitude"
   ]
  },
  {
   "cell_type": "markdown",
   "metadata": {
    "id": "sBZC01qUyj9M"
   },
   "source": [
    "## Spectral Energy Distribution - The Planck Function\n",
    "\n",
    "The Planck function describes the energy emitted by a blackbody as a function of temperature and wavelength."
   ]
  },
  {
   "cell_type": "code",
   "execution_count": null,
   "metadata": {
    "id": "336IfeQ-RmFM"
   },
   "outputs": [],
   "source": [
    "def B(w,T):\n",
    "  term1 = 2*h*c*c*pow(w,-5)\n",
    "  term2 = (h*c)/(w*kB*T)\n",
    "  term3 = 1.0/(exp(term2) - 1.0)\n",
    "  return term1*term3"
   ]
  },
  {
   "cell_type": "markdown",
   "metadata": {
    "id": "52IeJXKIy-7w"
   },
   "source": [
    "### Plotting the Planck Function\n",
    "\n",
    "A blackbody emits thermal radiation but it has no notion of chemistry, emission or absorption lines.  The hotter it is, the more radiation it should emit.  The peak should also shift to shorter wavelength as temperature increases.  This phenomenon is encapsulated by Wien's law: $\\lambda_{\\rm peak} [{\\rm A}] = 2.898\\times10^7/T [K]$.  Let's see what that looks like."
   ]
  },
  {
   "cell_type": "code",
   "execution_count": null,
   "metadata": {
    "colab": {
     "base_uri": "https://localhost:8080/",
     "height": 636
    },
    "id": "NsWavsclSUNI",
    "outputId": "933796a2-f05a-4af5-d66e-c180550cbcf1"
   },
   "outputs": [],
   "source": [
    "### FIGURE 1\n",
    "fs=18\n",
    "figure(1,figsize=(10,10))\n",
    "wav=logspace(1,6,10000) #in Angstrom\n",
    "wav_cm = wav*1e-8 #convert Angstrom to cm\n",
    "semilogy(wav,B(wav_cm,3000),label=\"3,000K\",color='Red')\n",
    "semilogy(wav,B(wav_cm,5000),label='5,000K',color='Green')\n",
    "semilogy(wav,B(wav_cm,7000),label='7,000K',color='Blue')\n",
    "axvline(2.898e7/3000, ls=\":\",color='Red')\n",
    "axvline(2.898e7/5000, ls=\":\",color='Green')\n",
    "axvline(2.898e7/7000, ls=\":\",color='Blue')\n",
    "xlim(800,20000)\n",
    "ylim(1e9,1e15)\n",
    "xticks(fontsize=fs)\n",
    "yticks(fontsize=fs)\n",
    "xlabel(r'$\\lambda~(\\AA)$',fontsize=fs)\n",
    "ylabel(r'$B_{\\lambda}(\\lambda,T)$',fontsize=fs)\n",
    "legend(loc='lower right',fontsize=fs);"
   ]
  },
  {
   "cell_type": "markdown",
   "metadata": {
    "id": "h4Da3lUEzEH8"
   },
   "source": [
    "### Sanity Check\n",
    "Does it work?  If we have implemented things correctly, then the integral of $B_{\\lambda}(\\lambda,T)$ over all wavelengths will be equal to $\\frac{\\sigma}{\\pi} T^4$.  Here we check the ratio, it should be 1.   "
   ]
  },
  {
   "cell_type": "code",
   "execution_count": null,
   "metadata": {
    "colab": {
     "base_uri": "https://localhost:8080/"
    },
    "id": "6S3SafCOYQIS",
    "outputId": "ed6e3de8-4103-417b-8fc9-f071662c33d7"
   },
   "outputs": [],
   "source": [
    "numerator = simps(x=wav_cm,y=B(wav_cm,5000)) #the integral over wavelength\n",
    "denominator = (sigma/pi)*pow(5000,4) #from the Stefan-Boltzmann law\n",
    "\n",
    "ratio = numerator/denominator\n",
    "\n",
    "print(\"{0:6.4f}\".format(ratio))"
   ]
  },
  {
   "cell_type": "markdown",
   "metadata": {
    "id": "oY8eTnyV0SNf"
   },
   "source": [
    "To get the (BB) spectral energy density of a star with a given lumonsity, we can use the Planck function and the Stefan-Boltzmann law: $L_{SB}=4 \\pi R^2 \\sigma T^4$."
   ]
  },
  {
   "cell_type": "code",
   "execution_count": null,
   "metadata": {
    "id": "tjFXmfph0fwx"
   },
   "outputs": [],
   "source": [
    "def SED(w,R,T):\n",
    "  return 4*pow(pi*R,2)*B(w,T)\n",
    "\n",
    "def L_SB(R,T):\n",
    "  return 4*pi*pow(R,2)*sigma*pow(T,4)"
   ]
  },
  {
   "cell_type": "markdown",
   "metadata": {
    "id": "fCuvaF191REL"
   },
   "source": [
    "Now we can check this by seeing if the frequency integral over flux for $1~R_{\\odot}$ and $T=5,778\\,K$ gives $1~L_{\\odot}$."
   ]
  },
  {
   "cell_type": "code",
   "execution_count": null,
   "metadata": {
    "colab": {
     "base_uri": "https://localhost:8080/"
    },
    "id": "yVuSWHXG1kVK",
    "outputId": "61b1162a-982b-471c-e6b8-d41c6f0e5f1a"
   },
   "outputs": [],
   "source": [
    "R=Rsun\n",
    "T=Tsun\n",
    "seds=SED(wav_cm,R,T)\n",
    "L = simps(x=wav_cm,y=seds)\n",
    "ratio = L/Lsun\n",
    "ratio2 = L/L_SB(R,T)\n",
    "print(\"{0:6.4f} {1:6.4f}\".format(ratio, ratio2))"
   ]
  },
  {
   "cell_type": "markdown",
   "metadata": {
    "id": "mASkkPB0yu6v"
   },
   "source": [
    "And plot the SED for this case."
   ]
  },
  {
   "cell_type": "code",
   "execution_count": null,
   "metadata": {
    "colab": {
     "base_uri": "https://localhost:8080/",
     "height": 54
    },
    "id": "EG9fvAZe2hbY",
    "outputId": "7b6bd3e4-e248-401f-a6f9-c551759bedf4"
   },
   "outputs": [],
   "source": [
    "### FIGURE 2\n",
    "fs=18\n",
    "figure(2,figsize=(10,10))\n",
    "plot(wav,seds)\n",
    "xlim(1000,20000)\n",
    "xticks(fontsize=fs)\n",
    "yticks(fontsize=fs)\n",
    "xlabel(r'$\\lambda (\\AA)$',fontsize=fs)\n",
    "ylabel(r'Specral Energy Density (erg/s/cm)',fontsize=fs);"
   ]
  },
  {
   "cell_type": "markdown",
   "metadata": {
    "id": "d8iSPWZlBBIX"
   },
   "source": [
    "Modern SPS models are obviously not made using BB spectra.  However, we can gain some considerable insight into SPS models with this simple approach."
   ]
  },
  {
   "cell_type": "markdown",
   "metadata": {
    "id": "Pnw_bkO31NJW"
   },
   "source": [
    "## Isochrones\n",
    "\n",
    "Isochrones are a data product of stellar evolution codes: they give a picture of what a stellar population should look like in terms of basic, global parameters (temperature, radius, luminosity, etc.) as a function of initial stellar mass and the age of the population.  In the cell below, download an isochrone data file that I've prepared for this exercise."
   ]
  },
  {
   "cell_type": "markdown",
   "metadata": {
    "id": "Iq_BVPnhrZ2W"
   },
   "source": [
    "The cell below contains some code for reading in and storing the file above.  Just execute the cell."
   ]
  },
  {
   "cell_type": "code",
   "execution_count": null,
   "metadata": {
    "cellView": "form",
    "id": "bckxhOsyfOGW"
   },
   "outputs": [],
   "source": [
    "#@title\n",
    "class ISO:\n",
    "    def __init__(self, filename, verbose=True):\n",
    "        self.filename = filename\n",
    "        if verbose:\n",
    "            print('Reading in: ' + self.filename)\n",
    "\n",
    "        self.version, self.abun, self.rot, self.ages, self.num_ages, self.hdr_list, self.isos = self.read_iso_file()\n",
    "\n",
    "    def read_iso_file(self):\n",
    "        #open file and read it in\n",
    "        with open(self.filename) as f:\n",
    "            content = [line.split() for line in f]\n",
    "        version = {'MIST': content[0][-1], 'MESA': content[1][-1]}\n",
    "        print (version)\n",
    "        abun = {content[3][i]:float(content[4][i]) for i in range(1,5)}\n",
    "        rot = float(content[4][-1])\n",
    "        num_ages = int(content[6][-1])\n",
    "\n",
    "        #read one block for each isochrone\n",
    "        iso_set = []\n",
    "        ages = []\n",
    "        counter = 0\n",
    "        data = content[8:]\n",
    "        for i_age in range(num_ages):\n",
    "            #grab info for each isochrone\n",
    "            num_eeps = int(data[counter][-2])\n",
    "            num_cols = int(data[counter][-1])\n",
    "            hdr_list = data[counter+2][1:]\n",
    "            formats = tuple([np.int32]+[np.float64 for i in range(num_cols-1)])\n",
    "            iso = np.zeros((num_eeps),{'names':tuple(hdr_list),'formats':tuple(formats)})\n",
    "            #read through EEPs for each isochrone\n",
    "            for eep in range(num_eeps):\n",
    "                iso_chunk = data[3+counter+eep]\n",
    "                iso[eep]=tuple(iso_chunk)\n",
    "            iso_set.append(iso)\n",
    "            ages.append(iso[0][1])\n",
    "            counter+= 3+num_eeps+2\n",
    "        return version, abun, rot, ages, num_ages, hdr_list, iso_set\n",
    "\n",
    "    def age_index(self, age):\n",
    "        diff_arr = abs(np.array(self.ages) - age)\n",
    "        age_index = np.where(diff_arr == min(diff_arr))[0][0]\n",
    "\n",
    "        if ((age > max(self.ages)) | (age < min(self.ages))):\n",
    "            print('The requested age is outside the range. Try between ' + str(min(self.ages)) + ' and ' + str(max(self.ages)))\n",
    "\n",
    "        return age_index\n"
   ]
  },
  {
   "cell_type": "markdown",
   "metadata": {
    "id": "qf_b9XQCtNf1"
   },
   "source": [
    "Now we're going to load the isochrones into memory so that we can use them."
   ]
  },
  {
   "cell_type": "code",
   "execution_count": null,
   "metadata": {
    "colab": {
     "base_uri": "https://localhost:8080/"
    },
    "id": "PVHpJ463glHs",
    "outputId": "a00dadc6-64f3-4955-ff5b-8cc16835757b"
   },
   "outputs": [],
   "source": [
    "MIST=ISO('./data/MIST_v1.2_feh_p0.00_afe_p0.0_vvcrit0.4_basic.iso')"
   ]
  },
  {
   "cell_type": "markdown",
   "metadata": {
    "id": "I1lZ_iC02XQx"
   },
   "source": [
    "This file contains isochrones for log10(age [yr]) between 5 and 10.3.  In other words, between 100,000 and about 20 billion years (= 20 Gyr).  We can access different ages by index.  If you want to find the index that corresponds to log10(age) = 8 ($10^8$ years), you can use the `age_index` function.  "
   ]
  },
  {
   "cell_type": "code",
   "execution_count": null,
   "metadata": {
    "colab": {
     "base_uri": "https://localhost:8080/"
    },
    "id": "NB3_6gXH22St",
    "outputId": "8e654ae2-53a6-4500-d35b-7d2b0f290e06"
   },
   "outputs": [],
   "source": [
    "MIST.age_index(8)"
   ]
  },
  {
   "cell_type": "markdown",
   "metadata": {
    "id": "KC8O4dA__um0"
   },
   "source": [
    "Below we'll make the Hertzsprung-Russell Diagram (HRD) for an isochrone with an age of 10 Gyr.  The HRD plots the effective temperature ($T_{eff}$) along the horizontal axis and the luminosity ($L$) along the vertical.  Convention is to plot the luminosity in solar units ($L_{\\odot}$) but here we just use cgs units.  Convention also dictates that we plot $T_{eff}$ increasing to the left.  This is consistent with the way that we will plot the color-magnitude diagram later."
   ]
  },
  {
   "cell_type": "code",
   "execution_count": null,
   "metadata": {
    "colab": {
     "base_uri": "https://localhost:8080/",
     "height": 54
    },
    "id": "tGfJUR3FPngH",
    "outputId": "8ed1ee6d-d482-4dd6-e539-34accbe058c5"
   },
   "outputs": [],
   "source": [
    "### FIGURE 3\n",
    "figure(3,figsize=(10,10))\n",
    "xpts=[]\n",
    "ypts=[]\n",
    "zpts=[]\n",
    "iso=MIST.isos[100]\n",
    "for i in iso:\n",
    "  eep=i['EEP']\n",
    "  mass=i['initial_mass']\n",
    "  if 0.5 <= mass <= 100 and eep < 808:\n",
    "    Teff = pow(10,i['log_Teff'])\n",
    "    R = pow(10,i['log_R'])*Rsun\n",
    "    Lum = pow(10,i['log_L'])*Lsun\n",
    "    Lsb = L_SB(R,Teff)\n",
    "    xpts.append(Teff)\n",
    "    ypts.append(Lsb)\n",
    "    zpts.append(Lum)\n",
    "fs=18\n",
    "semilogy(xpts,ypts,color='DodgerBlue',label='Lum from SB')\n",
    "semilogy(xpts,zpts,color='Tomato',label='Lum from model',ls='--')\n",
    "legend(fontsize=fs)\n",
    "xlim(6000,2750)\n",
    "xticks(fontsize=fs)\n",
    "yticks(fontsize=fs)\n",
    "xlabel(r\"${\\rm T_{eff}~[K]}$\",fontsize=fs)\n",
    "ylabel(r\"${\\rm Luminosity~[erg/s]}$\",fontsize=fs);"
   ]
  },
  {
   "cell_type": "markdown",
   "metadata": {
    "id": "JUQJ_zls4dx7"
   },
   "source": [
    "The isochrone ploted above does not show the full range of initial mass or evolutionary phase.  The two ways of obtaining the luminosity should be identical, and they appear to be."
   ]
  },
  {
   "cell_type": "markdown",
   "metadata": {
    "id": "HDr20Lty503Z"
   },
   "source": [
    "## Initial Mass Function\n",
    "\n",
    "For our purposes we'll only work with power-law IMFs.  This is not a major limitation since most widely-used IMFs behave this way for masses greater than about $0.5 M_{\\odot}$.  We'll also restrict ourselves to maximum range of $0.5 \\leq M/M_{\\odot} \\leq 100$ in all cases.  Stars with initial masses greater than $100 M_{\\odot}$ are extremely rare and difficult to quantify.  The powerlaw IMF is usually denoted $\\xi(M) = \\frac{dN}{dM} \\propto M^{\\alpha}$.  The most commonly used value is $\\alpha=-2.35$, this is called the Salpeter IMF.\n",
    "\n",
    "The power-law IMF can be integrated to give an analytical expression for the total number of stars ($N_{tot}$) between two masses.  \n",
    "\n",
    "$N_{tot} = \\int_{M_1}^{M_2} \\xi(M)\\,dM$\n",
    "\n",
    "Be careful in the case of $\\alpha=-1$. (Why?)\n",
    "\n",
    "We can normalize these functions by setting the total mass.  For this we can choose $1M_{\\odot}$ so that later, if we want to scale a galaxy up to, say, $10^8 M_{\\odot}$, we can simply multiply it by the total mass we want in $M_{\\odot}$.  Note that there is a subtlety to normalizing in this way.  We'll get to that when we assemble a full population model in the next section."
   ]
  },
  {
   "cell_type": "code",
   "execution_count": null,
   "metadata": {
    "id": "lqo7twcVX5VC"
   },
   "outputs": [],
   "source": [
    "def Ntot(M1,M2,alpha):\n",
    "  a1=alpha+1.\n",
    "  a2=alpha+2.\n",
    "  norm = 1/(pow(100,a2)-pow(0.5,a2))\n",
    "  return norm*(a2/a1)*(pow(M2,a1)-pow(M1,a1))"
   ]
  },
  {
   "cell_type": "markdown",
   "metadata": {
    "id": "J-GAikuJuL80"
   },
   "source": [
    "In the code cell below, run the Ntot function for M1=0.5, M2=100, alpha=-2.35 and -1.01."
   ]
  },
  {
   "cell_type": "code",
   "execution_count": null,
   "metadata": {
    "colab": {
     "base_uri": "https://localhost:8080/"
    },
    "id": "L4vU_UztuUhe",
    "outputId": "dca2a139-1bcc-47df-9175-704dd8f3fb23"
   },
   "outputs": [],
   "source": [
    "Ntot(0.5,100.,-2.35)"
   ]
  },
  {
   "cell_type": "code",
   "execution_count": null,
   "metadata": {
    "colab": {
     "base_uri": "https://localhost:8080/"
    },
    "id": "INLgtiRqLUXh",
    "outputId": "97ad2dc0-ba33-4c58-b3af-8a380485eb8d"
   },
   "outputs": [],
   "source": [
    "Ntot(0.5,100,-4)"
   ]
  },
  {
   "cell_type": "markdown",
   "metadata": {
    "id": "U7fHc1UuuD7N"
   },
   "source": [
    "Likewise the total mass ($M_{tot}$) can be obtained from:\n",
    "\n",
    "$M_{tot} = \\int_{M_1}^{M_2} M\\,\\xi(M)\\,dM$"
   ]
  },
  {
   "cell_type": "code",
   "execution_count": null,
   "metadata": {
    "id": "mER0Kz8lmzgW"
   },
   "outputs": [],
   "source": [
    "def Mtot(M1,M2,alpha):\n",
    "  a2=alpha+2.0\n",
    "  norm=1/(pow(100,a2)-pow(0.5,a2))\n",
    "  return norm*(pow(M2,a2)-pow(M1,a2))"
   ]
  },
  {
   "cell_type": "markdown",
   "metadata": {
    "id": "-u2XLTa2ubsC"
   },
   "source": [
    "In the cell below, evaluate the Mtot function for M1=0.5, M2=100, and alpha=-2.35 and -1.01.  We should get 1.0 ($M_{\\odot}$ units) by design."
   ]
  },
  {
   "cell_type": "code",
   "execution_count": null,
   "metadata": {
    "colab": {
     "base_uri": "https://localhost:8080/"
    },
    "id": "bllr5CI_nAQn",
    "outputId": "564222cd-8c1e-4896-9e9c-b9a49ec38869"
   },
   "outputs": [],
   "source": [
    "Mtot(0.5,100,-2.35)"
   ]
  },
  {
   "cell_type": "code",
   "execution_count": null,
   "metadata": {
    "colab": {
     "base_uri": "https://localhost:8080/"
    },
    "id": "ltSeXzZELdc4",
    "outputId": "2b37fe52-65d5-4f55-f143-4a1f1b943246"
   },
   "outputs": [],
   "source": [
    "Mtot(0.5,100,-1.01)"
   ]
  },
  {
   "cell_type": "markdown",
   "metadata": {
    "id": "DnNJPd3Vu-Q1"
   },
   "source": [
    "Here is a plot that shows the effect of changing the IMF $\\alpha$ value.  We try values of -1.01, -1.5, -2.35, and -4. Then we plot the *Cumulative Number Fraction* as a function of stellar mass over the range.  Note also that the x-axis is plotted logarithmically."
   ]
  },
  {
   "cell_type": "code",
   "execution_count": null,
   "metadata": {
    "colab": {
     "base_uri": "https://localhost:8080/",
     "height": 626
    },
    "id": "a1C8zE0OoTB7",
    "outputId": "042fad45-2c1f-4071-ee5c-93ffe23794a3"
   },
   "outputs": [],
   "source": [
    "### FIGURE 4\n",
    "figure(4,figsize=(10,10))\n",
    "masses=logspace(-0.30103,2,50)\n",
    "CNF1=[]\n",
    "CNF2=[]\n",
    "CNF3=[]\n",
    "CNF4=[]\n",
    "for m in masses:\n",
    "  CNF1.append( Ntot(0.5,m,-1.01)/Ntot(masses[0],masses[-1],-1.01))\n",
    "  CNF2.append( Ntot(0.5,m,-1.5)/Ntot(masses[0],masses[-1],-1.5))\n",
    "  CNF3.append( Ntot(0.5,m,-2.35)/Ntot(masses[0],masses[-1],-2.35))\n",
    "  CNF4.append( Ntot(0.5,m,-4)/Ntot(masses[0],masses[-1],-4))\n",
    "semilogx(masses,CNF1,color='DodgerBlue',label='-1.01')\n",
    "semilogx(masses,CNF2,color='Tomato',label='-1.5')\n",
    "semilogx(masses,CNF3,color='DarkGreen',label='-2.35')\n",
    "semilogx(masses,CNF4,color='Magenta',label='-4')\n",
    "axhline(0.5,ls='--')\n",
    "axvline(1.0,ls='--')\n",
    "xticks(fontsize=fs)\n",
    "yticks(fontsize=fs)\n",
    "legend(fontsize=fs,title=r'$\\alpha$', title_fontsize=fs)\n",
    "ylabel('Cumulative Number Fraction',fontsize=fs)\n",
    "xlabel(r'Mass $(M_{\\odot})$',fontsize=fs);"
   ]
  },
  {
   "cell_type": "markdown",
   "metadata": {
    "id": "9DCIDMCU5joO"
   },
   "source": [
    "What do you notice that is different about the range of curves shown above?  An IMF is called \"bottom-heavy\" if the majority of the stars have lower masses and \"top-heavy\" if the majority have higher masses.  If the dividing line between \"bottom-heavy\" and \"top-heavy\" is drawn at $1~M_{\\odot}$, how would you characterize IMFs defined by the above values of $\\alpha$?"
   ]
  },
  {
   "cell_type": "markdown",
   "metadata": {
    "id": "AFUQ9xoM_ho6"
   },
   "source": [
    "## Putting it all together\n",
    "\n",
    "Now that we've assembled each of the three pieces, we are in a place to create the \"integrated spectrum\" of a stellar population.  This requires that we:\n",
    "\n",
    "*   Choose an isochrone (age of the population)\n",
    "*   Choose an IMF $\\alpha$\n",
    "\n",
    "Once we've made that choice, we can loop over the points in the isochrone, calculate how many stars are present based on their masses.  Then we create a BB spectrum for each of these \"bins\" of stars and add them together.\n"
   ]
  },
  {
   "cell_type": "code",
   "execution_count": null,
   "metadata": {
    "id": "BNoDkiK-IJRo"
   },
   "outputs": [],
   "source": [
    "def SPS(iso, alpha=-2.35, Mmin=0.5, Mmax=100., z=0.):\n",
    "  wav=logspace(1,6,10000) #in Angstrom\n",
    "  wav_cm = wav*1e-8 #convert Angstrom to cm\n",
    "  ISED = zeros(shape(wav))\n",
    "  Msum=0.0\n",
    "  Nsum=0.0\n",
    "  for i in range(len(iso)-1):\n",
    "    M1=iso[i]['initial_mass']\n",
    "    M2=iso[i+1]['initial_mass']\n",
    "    if M1 > Mmin and M2 < Mmax:\n",
    "      logR1 = iso[i]['log_R']\n",
    "      logR2 = iso[i+1]['log_R']\n",
    "      logT1 = iso[i]['log_Teff']\n",
    "      logT2 = iso[i+1]['log_Teff']\n",
    "\n",
    "      R = 0.5*Rsun*(pow(10,logR1) + pow(10,logR2))\n",
    "      T = 0.5*(pow(10,logT1)+pow(10,logT2))\n",
    "      N = Ntot(M1,M2,alpha)\n",
    "      M = Mtot(M1,M2,alpha)\n",
    "      ISED += N*SED(wav_cm,R,T)\n",
    "      Nsum += N\n",
    "      Msum += M\n",
    "  wav = wav*(1+z)\n",
    "  return Msum, Nsum, wav, ISED"
   ]
  },
  {
   "cell_type": "markdown",
   "metadata": {
    "id": "rJuN9Eql2JPs"
   },
   "source": [
    "Here we plot the integrated SED of a 10 Gyr population (isochrone index 100) for two different IMF alpha's."
   ]
  },
  {
   "cell_type": "code",
   "execution_count": null,
   "metadata": {
    "colab": {
     "base_uri": "https://localhost:8080/",
     "height": 672
    },
    "id": "4AvKGYibI9ET",
    "outputId": "e1f08e36-e628-400d-a723-08637fc37c67"
   },
   "outputs": [],
   "source": [
    "### FIGURE 5\n",
    "figure(5,figsize=(10,10))\n",
    "\n",
    "index=MIST.age_index(8)\n",
    "iso=MIST.isos[index]\n",
    "\n",
    "alpha=-2.35\n",
    "M,N,w,S=SPS(iso, alpha)\n",
    "print('Total mass, number = {0:5.3f}, {1:5.3f} for alpha = {2:4.2f}'.format(M,N,alpha))\n",
    "plot(w,S,color='DodgerBlue',label='integrated alpha=-2.35')\n",
    "\n",
    "alpha= -1.35\n",
    "M,N,w,S=SPS(iso,alpha)\n",
    "print('Total mass, number = {0:5.3f}, {1:5.3f} for alpha = {2:4.2f}'.format(M,N,alpha))\n",
    "plot(w,S,color='DarkGreen',label='integrated alpha=-1.35')\n",
    "\n",
    "xlim(1000,20000)\n",
    "fs=18\n",
    "legend(fontsize=fs)\n",
    "xticks(fontsize=fs)\n",
    "yticks(fontsize=fs)\n",
    "xlabel(r'$\\lambda (\\AA)$',fontsize=fs)\n",
    "ylabel(r'Specral Energy Density (erg/s/$\\AA$)',fontsize=fs);"
   ]
  },
  {
   "cell_type": "markdown",
   "metadata": {
    "id": "HZj2tZf01mxG"
   },
   "source": [
    "Try running the plot above again, but this time use an age of $10^8$ years.\n",
    "\n",
    "Now we come to the subtlety mentioned before: the way that we normalized our IMF is by setting the total mass between 0.5 and 100 $M_{\\odot}$ to 1 $M_{\\odot}$.  But the largest initial mass in the isochrone that we used in the first example, which has an age of 10 Gyr, is:"
   ]
  },
  {
   "cell_type": "code",
   "execution_count": null,
   "metadata": {
    "id": "EBNKyp0u2GC4"
   },
   "outputs": [],
   "source": [
    "max(MIST.isos[100]['initial_mass'][0:808])"
   ]
  },
  {
   "cell_type": "markdown",
   "metadata": {
    "id": "PCLFGmaq3nsV"
   },
   "source": [
    "So just above 1 $M_{\\odot}$.  That means masses from 1 to 100 $M_{\\odot}$ are no longer \"alive\" in this model but our normalization includes them.\n",
    "\n",
    "Now lets make a similar plot but vary the log10(age)=7, 8, 9, 10.  In this we'll actually plot two things side-by-side."
   ]
  },
  {
   "cell_type": "code",
   "execution_count": null,
   "metadata": {
    "colab": {
     "base_uri": "https://localhost:8080/",
     "height": 718
    },
    "id": "CRQiKCZ04MUC",
    "outputId": "2f79e646-7375-448f-90ea-cff018ed38d5"
   },
   "outputs": [],
   "source": [
    "### FIGURE 6\n",
    "figure(6,figsize=(20,10))\n",
    "subplot(121)\n",
    "\n",
    "ages=[7,8,9,10]\n",
    "\n",
    "#the first section of this figure plots the isochrones in the HRD\n",
    "for age in ages:\n",
    "  index=MIST.age_index(age)\n",
    "  iso=MIST.isos[index]\n",
    "  plot(iso['log_Teff'], iso['log_L'])\n",
    "\n",
    "title('Isochrones',fontsize=fs)\n",
    "xticks(fontsize=fs)\n",
    "yticks(fontsize=fs)\n",
    "xlim(6,3)\n",
    "ylim(-1.5,5.5)\n",
    "xlabel(r'$\\log(T_{\\rm eff}~[K])$',fontsize=fs)\n",
    "ylabel(r'$\\log(L/L_{\\odot})$',fontsize=fs);\n",
    "\n",
    "#the second section plots the SEDs for Salpeter IMF\n",
    "alpha=-2.35\n",
    "\n",
    "\n",
    "subplot(122)\n",
    "for age in ages:\n",
    "  index=MIST.age_index(age)\n",
    "  iso=MIST.isos[index]\n",
    "  M,N,w,S=SPS(iso, alpha)\n",
    "  loglog(w,S)\n",
    "  print(\"Log(age)={0:5.2f} and Mass={1:5.2f}\".format(age,M))\n",
    "\n",
    "title(\"SEDs\",fontsize=fs)\n",
    "xlim(100,100000)\n",
    "ylim(1e34,1e41)\n",
    "fs=18\n",
    "xticks(fontsize=fs)\n",
    "yticks(fontsize=fs)\n",
    "xlabel(r'$\\lambda (\\AA)$',fontsize=fs)\n",
    "ylabel(r'Specral Energy Density (erg/s/cm)',fontsize=fs);"
   ]
  },
  {
   "cell_type": "code",
   "execution_count": null,
   "metadata": {
    "id": "TH1d7wOKr8gE"
   },
   "outputs": [],
   "source": [
    "w[argmax(S)]"
   ]
  },
  {
   "cell_type": "markdown",
   "metadata": {
    "id": "82da0QiE-Ado"
   },
   "source": [
    "## Magnitudes\n",
    "\n",
    "We're now in a position to look at the evolution of our SSPs in color and magnitude space.  For this we'll use the Sloan Digital Sky Survey (SDSS) filters u,g,r,i,z.  And, actually, we'll approximate them with gaussian functions for simplicity, but these are fairly accurate representations.  The dotted line is the SED of the 10-Gyr SSP model from the previous figure.  Notice that it is brightest somewhere around g.  The dashed line is the same SED but shifted to redshift z=0.5."
   ]
  },
  {
   "cell_type": "code",
   "execution_count": null,
   "metadata": {
    "id": "9qMrXwJN81KI"
   },
   "outputs": [],
   "source": [
    "#these functions approximate the filters\n",
    "def f(x,mu,sig): return exp(-pow(x - mu, 2.) / (2 * pow(sig, 2.)))\n",
    "def thru_u(x): return f(x,3600,150)\n",
    "def thru_g(x): return f(x,4750,500)\n",
    "def thru_r(x): return f(x,6200,500)\n",
    "def thru_i(x): return f(x,7500,500)\n",
    "def thru_z(x): return f(x,8800,500)"
   ]
  },
  {
   "cell_type": "code",
   "execution_count": null,
   "metadata": {
    "colab": {
     "base_uri": "https://localhost:8080/",
     "height": 622
    },
    "id": "mIz_NBUi82Kh",
    "outputId": "2c902813-c7ab-4f7c-a2dc-256aa4e6df98"
   },
   "outputs": [],
   "source": [
    "### FIGURE 7\n",
    "figure(7,figsize=(20,10))\n",
    "plot(wav,0.1*thru_u(wav),label='u')\n",
    "plot(wav,0.35*thru_g(wav),label='g')\n",
    "plot(wav,0.5*thru_r(wav),label='r')\n",
    "plot(wav,0.35*thru_i(wav),label='i')\n",
    "plot(wav,0.1*thru_z(wav),label='z')\n",
    "\n",
    "#plot the SED\n",
    "plot(w,0.5*S/max(S),color='k',ls=':')\n",
    "plot(1.5*w,0.5*S/max(S),color='k',ls='--')\n",
    "\n",
    "text(6500,0.5,'z=0',fontsize=fs)\n",
    "text(10000,0.5,'z=0.5',fontsize=fs)\n",
    "legend(fontsize=fs)\n",
    "xticks(fontsize=fs)\n",
    "yticks(fontsize=fs)\n",
    "xlim(2000,20000)\n",
    "ylim(0.001,0.55)\n",
    "xlabel(\"Wavelength (Angstroms)\",fontsize=fs)\n",
    "ylabel(\"Throughput\",fontsize=fs);"
   ]
  },
  {
   "cell_type": "markdown",
   "metadata": {
    "id": "hIox0r5FDdOK"
   },
   "source": [
    "The cell below contains a function that calculates the u, g, r, i, and z absolute magnitudes for an input isochrone, IMF alpha, and redshift z.  It uses the definition of the AB magnitude system.\n",
    "\n",
    "$m = -2.5 \\log_{10} \\left( \\frac{\\int SED(\\lambda) T(\\lambda) \\lambda d\\lambda}{\\int T(\\lambda) \\lambda d\\lambda} \\right) - 48.60$\n",
    "\n",
    "Where T is the \"throughput\", or the amount of light transmitted through the filter as a function of wavelength and the SED comes from our model above.  The throughput for each filter (approximately) is displayed above in Figure 7."
   ]
  },
  {
   "cell_type": "code",
   "execution_count": null,
   "metadata": {
    "id": "IbEi8CaZ-whN"
   },
   "outputs": [],
   "source": [
    "def ugriz_mags(iso, alpha, z=0.0):\n",
    "  M,N,w,S=SPS(iso=iso,alpha=alpha,z=z)\n",
    "  wav_cm = 1e-8*w\n",
    "  u=-2.5*log10(simps(x=wav_cm, y=wav_cm*S*thru_u(w))/(const*simps(x=w,y=w*thru_u(w)))) - 48.60\n",
    "  g=-2.5*log10(simps(x=wav_cm, y=wav_cm*S*thru_g(w))/(const*simps(x=w,y=w*thru_g(w)))) - 48.60\n",
    "  r=-2.5*log10(simps(x=wav_cm, y=wav_cm*S*thru_r(w))/(const*simps(x=w,y=w*thru_r(w)))) - 48.60\n",
    "  i=-2.5*log10(simps(x=wav_cm, y=wav_cm*S*thru_i(w))/(const*simps(x=w,y=w*thru_i(w)))) - 48.60\n",
    "  z=-2.5*log10(simps(x=wav_cm, y=wav_cm*S*thru_z(w))/(const*simps(x=w,y=w*thru_z(w)))) - 48.60\n",
    "\n",
    "  return u,g,r,i,z"
   ]
  },
  {
   "cell_type": "markdown",
   "metadata": {
    "id": "6T5xiW-D7PXj"
   },
   "source": [
    "The nex figure looks at what happens to galaxy magnitudes and colors as the redshift increases."
   ]
  },
  {
   "cell_type": "code",
   "execution_count": null,
   "metadata": {
    "colab": {
     "base_uri": "https://localhost:8080/",
     "height": 538
    },
    "id": "izmJ5HMZUNnC",
    "outputId": "dbed968f-5c69-46b4-cc69-5fcd8dd136b7"
   },
   "outputs": [],
   "source": [
    "### FIGURE 8\n",
    "figure(8,figsize=(8,8))\n",
    "\n",
    "ages=[7.5,7.75,8,8.25,8.5,8.75,9,9.25,9.5,9.75,10]\n",
    "\n",
    "alpha=-2.35\n",
    "\n",
    "z=0.0\n",
    "for age in ages:\n",
    "  i=MIST.age_index(age)\n",
    "  iso=MIST.isos[i]\n",
    "  mags = ugriz_mags(iso,alpha,z=z)\n",
    "  scatter(mags[1],mags[1]-mags[3],color='DodgerBlue')\n",
    "\n",
    "z=1.0\n",
    "for age in ages:\n",
    "  i=MIST.age_index(age)\n",
    "  iso=MIST.isos[i]\n",
    "  mags = ugriz_mags(iso,alpha,z=z)\n",
    "  scatter(mags[1],mags[1]-mags[3],color='LimeGreen')\n",
    "\n",
    "\n",
    "z=2.0\n",
    "for age in ages:\n",
    "  i=MIST.age_index(age)\n",
    "  iso=MIST.isos[i]\n",
    "  mags = ugriz_mags(iso,alpha,z=z)\n",
    "  scatter(mags[1],mags[1]-mags[3],color='Tomato')\n",
    "\n",
    "\n",
    "xticks(fontsize=fs)\n",
    "yticks(fontsize=fs)\n",
    "xlabel(r'$M_g$',fontsize=fs)\n",
    "ylabel(r'$g-i$',fontsize=fs)\n",
    "title('Simple Stellar Population CMD',fontsize=fs);"
   ]
  },
  {
   "cell_type": "markdown",
   "metadata": {
    "id": "fZ5DTYPCFaEE"
   },
   "source": [
    "Keep in mind when looking at this that our SSP is normalized to have an initial mass of 1$M_{\\odot}$, so much less massive (and therefore less luminous) than a typical galaxy!  Ages shown in the figure go from log(age)=7.5 up to 10 in finer steps ($\\Delta$log(age)=0.25) than we have used in previous figure.\n",
    "\n",
    "Take a few minutes to ponder the effects.  The blue points have redshift z=0, the green points have redshift z=1, and the red points have redshift z=2.  How can we qualitatively explain what's going on here?\n",
    "\n",
    "\n",
    "In Figure 9 we'll plot the absolute magnitude of a 1 Gyr SSP in the five filters as a function of redshift."
   ]
  },
  {
   "cell_type": "code",
   "execution_count": null,
   "metadata": {
    "colab": {
     "base_uri": "https://localhost:8080/",
     "height": 513
    },
    "id": "8Rr-GCsMG4bN",
    "outputId": "279e286a-f1da-43a0-85fb-579c0401198f"
   },
   "outputs": [],
   "source": [
    "### FIGURE 9\n",
    "figure(9,figsize=(8,8))\n",
    "\n",
    "alpha=-2.35\n",
    "i = MIST.age_index(9) # 1 Gyr\n",
    "iso = MIST.isos[i]\n",
    "\n",
    "redshift = linspace(0,2,21)\n",
    "\n",
    "for z in redshift:\n",
    "  mags = ugriz_mags(iso,alpha,z=z)\n",
    "  scatter(z,mags[0],color='DodgerBlue')\n",
    "  scatter(z,mags[1],color='LimeGreen')\n",
    "  scatter(z,mags[2],color='Gold')\n",
    "  scatter(z,mags[3],color='DarkOrange')\n",
    "  scatter(z,mags[4],color='FireBrick')\n",
    "\n",
    "text(0,2.0,'u',color='DodgerBlue',fontsize=fs)\n",
    "text(0,1.7,'g',color='LimeGreen',fontsize=fs)\n",
    "text(0,1.4,'r',color='Gold',fontsize=fs)\n",
    "text(0,1.1,'i',color='DarkOrange',fontsize=fs)\n",
    "text(0,0.8,'z',color='FireBrick',fontsize=fs)\n",
    "\n",
    "xticks(fontsize=fs)\n",
    "yticks(fontsize=fs)\n",
    "xlabel(r'Redshift $z$',fontsize=fs)\n",
    "ylabel(r'Absolute Magnitude',fontsize=fs);"
   ]
  },
  {
   "cell_type": "markdown",
   "metadata": {
    "id": "MMYa9lpPLGUc"
   },
   "source": [
    "Notice that the effect of redshift on the SED of this SSP is different for each of the SDSS filters.  The u filter is monotonic, it gets fainter as z increases and likewise for g.  However, the r, i, and z filters have a different behavior: there is a redshift z > 0 for which the SSP reaches its maximum brightness.  Why?\n",
    "\n",
    "## K Correction\n",
    "The above gives rise to the \"cosmological K correction\".  It is a term in the expanded, cosmological version of the astronomical distance formula (i.e., when redshift is non-negligible) that accounts for the change in flux through a photometric filter:\n",
    "\n",
    "$m_X-M_X = 5 \\log_{10}D_L - 5 + K_{corr,X}$\n",
    "\n",
    "Where $X$ here refers to a filter, such as u, g, r, i, or z.  The K correction is defined as the ratio of the redshifted flux through the filter to the z=0 case:\n",
    "\n",
    "$K_{corr} = -2.5 \\log_{10}\\left( (1+z)\\times\\frac{\\int SED_{z \\neq 0}(\\lambda) T(\\lambda) \\lambda d\\lambda}{\\int SED_{z=0}(\\lambda) T(\\lambda) \\lambda d\\lambda} \\right)$\n",
    "\n",
    "It should always be zero at z=0 because $\\log_{10}(1)=0$.\n",
    "\n",
    "One further, important point about the K correction is that it is quite sensitive to the SED of the object in question.  This applies not just to integrated spectrum of an SSP that we're considering here but also the, e.g., the observation of a Supernova at $z=1$ or 2.  One implication is that we have to have a pretty good idea in advance of what the objects spectrum looks like to be able to correctly apply the K correction."
   ]
  },
  {
   "cell_type": "code",
   "execution_count": null,
   "metadata": {
    "id": "3mR18pMuOB8d"
   },
   "outputs": [],
   "source": [
    "def ugriz_kcor(iso, alpha, z=0.0):\n",
    "  M,N,w,S=SPS(iso=iso,alpha=alpha,z=z)\n",
    "  M0,N0,w0,S0=SPS(iso=iso,alpha=alpha,z=0)\n",
    "  wav_cm = 1e-8*w\n",
    "  wav_cm0 = 1e-8*w0\n",
    "\n",
    "  ku = -2.5*log10( (1+z) * simps(x=wav_cm, y=wav_cm*S*thru_u(w)) / simps(x=wav_cm0, y=wav_cm0*S0*thru_u(w0)) )\n",
    "  kg = -2.5*log10( (1+z) * simps(x=wav_cm, y=wav_cm*S*thru_g(w)) / simps(x=wav_cm0, y=wav_cm0*S0*thru_g(w0)) )\n",
    "  kr = -2.5*log10( (1+z) * simps(x=wav_cm, y=wav_cm*S*thru_r(w)) / simps(x=wav_cm0, y=wav_cm0*S0*thru_r(w0)) )\n",
    "  ki = -2.5*log10( (1+z) * simps(x=wav_cm, y=wav_cm*S*thru_i(w)) / simps(x=wav_cm0, y=wav_cm0*S0*thru_i(w0)) )\n",
    "  kz = -2.5*log10( (1+z) * simps(x=wav_cm, y=wav_cm*S*thru_z(w)) / simps(x=wav_cm0, y=wav_cm0*S0*thru_z(w0)) )\n",
    "\n",
    "  return ku,kg,kr,ki,kz"
   ]
  },
  {
   "cell_type": "markdown",
   "metadata": {
    "id": "8_SMfxWEPDls"
   },
   "source": [
    "And we can plot the k correction similarly to the previous plot.  It may take 1-2 minutes to make this plot."
   ]
  },
  {
   "cell_type": "code",
   "execution_count": null,
   "metadata": {
    "colab": {
     "base_uri": "https://localhost:8080/",
     "height": 520
    },
    "id": "pSL_JSIjPBgU",
    "outputId": "5c566697-1d9b-43a1-ff1e-241fba4d24f4"
   },
   "outputs": [],
   "source": [
    "### FIGURE 10\n",
    "figure(10,figsize=(8,8))\n",
    "\n",
    "alpha=-2.35\n",
    "i = MIST.age_index(9) # 1 Gyr\n",
    "iso = MIST.isos[i]\n",
    "\n",
    "redshift = linspace(0,2,21)\n",
    "\n",
    "for z in redshift:\n",
    "  kcors = ugriz_kcor(iso,alpha,z=z)\n",
    "  scatter(z,kcors[0],color='DodgerBlue')\n",
    "  scatter(z,kcors[1],color='LimeGreen')\n",
    "  scatter(z,kcors[2],color='Gold')\n",
    "  scatter(z,kcors[3],color='DarkOrange')\n",
    "  scatter(z,kcors[4],color='FireBrick')\n",
    "\n",
    "#text(0,3.5,'u',color='DodgerBlue',fontsize=fs)\n",
    "#text(0,3.0,'g',color='LimeGreen',fontsize=fs)\n",
    "#text(0,2.5,'r',color='Gold',fontsize=fs)\n",
    "#text(0,2.0,'i',color='DarkOrange',fontsize=fs)\n",
    "#text(0,1.5,'z',color='FireBrick',fontsize=fs)\n",
    "grid()\n",
    "ylim(-2,1)\n",
    "xticks(fontsize=fs)\n",
    "yticks(fontsize=fs)\n",
    "xlabel(r'Redshift $z$',fontsize=fs)\n",
    "ylabel(r'K Correction',fontsize=fs);"
   ]
  },
  {
   "cell_type": "markdown",
   "metadata": {
    "id": "vub1wxwdShkq"
   },
   "source": [
    "In order to see the effect of changing the spectrum on the K correction, try a different age.  You can try both a larger and a smaller age.\n",
    "\n",
    "\n",
    "\n",
    "\n",
    "\n",
    "### THE END"
   ]
  },
  {
   "cell_type": "code",
   "execution_count": null,
   "metadata": {},
   "outputs": [],
   "source": []
  }
 ],
 "metadata": {
  "colab": {
   "collapsed_sections": [
    "h4Da3lUEzEH8",
    "Pnw_bkO31NJW"
   ],
   "provenance": []
  },
  "kernelspec": {
   "display_name": "Python 3 (ipykernel)",
   "language": "python",
   "name": "python3"
  },
  "language_info": {
   "codemirror_mode": {
    "name": "ipython",
    "version": 3
   },
   "file_extension": ".py",
   "mimetype": "text/x-python",
   "name": "python",
   "nbconvert_exporter": "python",
   "pygments_lexer": "ipython3",
   "version": "3.9.7"
  }
 },
 "nbformat": 4,
 "nbformat_minor": 1
}
